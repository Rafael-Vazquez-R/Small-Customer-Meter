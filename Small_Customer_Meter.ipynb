{
 "cells": [
  {
   "cell_type": "markdown",
   "id": "d9e5eb30-8a33-4d3f-acc4-4b78743c3296",
   "metadata": {},
   "source": [
    "<h3 align='center'><b> Small Customer Meter Project </b></h3>"
   ]
  },
  {
   "cell_type": "markdown",
   "id": "08f81b76-cf37-4f30-88d7-52033d403f63",
   "metadata": {
    "tags": []
   },
   "source": [
    "#### **Project Description**"
   ]
  },
  {
   "cell_type": "markdown",
   "id": "b7275cb4-d8a8-427e-8b26-fcb4a9493d36",
   "metadata": {},
   "source": [
    "Star Water Utility (SWU) has identified inaccuracies in reading customer water meters. There is an under-registration of water volume in the meters, resulting in lower billing than the actual water delivered to customers. To address this issue, we will analyze random water meters from customers and attempt to answer some questions."
   ]
  },
  {
   "cell_type": "markdown",
   "id": "311b6c8b-bb60-4851-9bac-d11f1c067dc7",
   "metadata": {},
   "source": [
    "#### **Problem Overview**"
   ]
  },
  {
   "cell_type": "markdown",
   "id": "c0e482fb-3d64-4403-9395-ea7e9890c9f9",
   "metadata": {},
   "source": [
    "To gain a comprehensive understanding of the discrepancy between the water supplier meter and the readings of small customer meters, it is essential to consider the following factors:<br>\n",
    "* Leakage in the system\n",
    "* Hidden connection between the supplier meter and customer meters\n",
    "* Failure to account for the tolerance/errors of the meters in comparison to the actual reading\n",
    "* Influence of temperature, aging, and water pressure on meter readings\n",
    "* Calibration or testing issues\n",
    "* Wear and tear of internal meter components\n",
    "* Pipe blockages that could alter water volume in meter readings\n",
    "* Accuracy issues with the supplier meter and/or small customer meters"
   ]
  },
  {
   "cell_type": "markdown",
   "id": "91cadc95-4964-4ab2-97dd-b942d415de6f",
   "metadata": {
    "tags": []
   },
   "source": [
    "#### **Project Proceduce**"
   ]
  },
  {
   "cell_type": "markdown",
   "id": "6796dd07-9862-4c08-93ad-b790fde58c0d",
   "metadata": {},
   "source": [
    "We will import the sample data from an Excel file provided by Star Water Utility into a dataframe. The dataset will undergo a comprehensive review to identify and rectify any inconsistencies, errors, misspellings, missing values, duplicates, and outliers. The objective is to ensure that the data frame is clean and well-prepared for subsequent analysis."
   ]
  },
  {
   "cell_type": "markdown",
   "id": "09effa02-6be1-4d34-bf30-86256ec2a6ad",
   "metadata": {
    "tags": []
   },
   "source": [
    "#### **Libraries/Packages**"
   ]
  },
  {
   "cell_type": "code",
   "execution_count": 1,
   "id": "0034c035-afc5-4be8-bec1-3388fe10b584",
   "metadata": {},
   "outputs": [],
   "source": [
    "import pandas as pd\n",
    "import numpy as np\n",
    "import matplotlib.pyplot as plt\n",
    "import seaborn as sns\n",
    "%matplotlib inline\n",
    "from IPython.display import display"
   ]
  },
  {
   "cell_type": "markdown",
   "id": "c91fac82-92c3-4945-835a-352f1075a726",
   "metadata": {
    "tags": []
   },
   "source": [
    "#### **Datasets**"
   ]
  },
  {
   "cell_type": "code",
   "execution_count": 2,
   "id": "87ab6512-1c06-4112-8856-0d233cb01562",
   "metadata": {},
   "outputs": [],
   "source": [
    "# Meter Test Data - dataset\n",
    "data_raw = pd.read_excel(r\"C:\\Users\\rvrei\\OneDrive\\Desktop\\Water Project - ESource\\WLC Analyst_Example Dataset.xlsx\",\n",
    "                     \"Meter Test Data\")\n",
    "# Summary Customer Usage - dataset\n",
    "data_sum_cus = pd.read_excel(r\"C:\\Users\\rvrei\\OneDrive\\Desktop\\Water Project - ESource\\WLC Analyst_Example Dataset.xlsx\",\n",
    "                     \"Summary Customer Usage\")"
   ]
  },
  {
   "cell_type": "code",
   "execution_count": 3,
   "id": "b7caf6de-8016-4016-918e-ce37c56b099a",
   "metadata": {},
   "outputs": [
    {
     "data": {
      "text/html": [
       "<div>\n",
       "<style scoped>\n",
       "    .dataframe tbody tr th:only-of-type {\n",
       "        vertical-align: middle;\n",
       "    }\n",
       "\n",
       "    .dataframe tbody tr th {\n",
       "        vertical-align: top;\n",
       "    }\n",
       "\n",
       "    .dataframe thead th {\n",
       "        text-align: right;\n",
       "    }\n",
       "</style>\n",
       "<table border=\"1\" class=\"dataframe\">\n",
       "  <thead>\n",
       "    <tr style=\"text-align: right;\">\n",
       "      <th></th>\n",
       "      <th>meterID</th>\n",
       "      <th>testYear</th>\n",
       "      <th>installationYear</th>\n",
       "      <th>meterSize</th>\n",
       "      <th>meterMake</th>\n",
       "      <th>accuracy</th>\n",
       "    </tr>\n",
       "  </thead>\n",
       "  <tbody>\n",
       "    <tr>\n",
       "      <th>0</th>\n",
       "      <td>1</td>\n",
       "      <td>2019</td>\n",
       "      <td>1990</td>\n",
       "      <td>0.625</td>\n",
       "      <td>BLUE</td>\n",
       "      <td>0.987826</td>\n",
       "    </tr>\n",
       "    <tr>\n",
       "      <th>1</th>\n",
       "      <td>2</td>\n",
       "      <td>2019</td>\n",
       "      <td>2008</td>\n",
       "      <td>0.625</td>\n",
       "      <td>BLUE</td>\n",
       "      <td>0.000000</td>\n",
       "    </tr>\n",
       "    <tr>\n",
       "      <th>2</th>\n",
       "      <td>3</td>\n",
       "      <td>2019</td>\n",
       "      <td>1998</td>\n",
       "      <td>0.625</td>\n",
       "      <td>BLUE</td>\n",
       "      <td>0.990085</td>\n",
       "    </tr>\n",
       "    <tr>\n",
       "      <th>3</th>\n",
       "      <td>4</td>\n",
       "      <td>2019</td>\n",
       "      <td>1996</td>\n",
       "      <td>0.625</td>\n",
       "      <td>BLUE</td>\n",
       "      <td>0.999476</td>\n",
       "    </tr>\n",
       "    <tr>\n",
       "      <th>4</th>\n",
       "      <td>5</td>\n",
       "      <td>2019</td>\n",
       "      <td>2003</td>\n",
       "      <td>0.625</td>\n",
       "      <td>RED</td>\n",
       "      <td>0.999118</td>\n",
       "    </tr>\n",
       "  </tbody>\n",
       "</table>\n",
       "</div>"
      ],
      "text/plain": [
       "   meterID  testYear  installationYear meterSize meterMake  accuracy\n",
       "0        1      2019              1990     0.625      BLUE  0.987826\n",
       "1        2      2019              2008     0.625      BLUE  0.000000\n",
       "2        3      2019              1998     0.625      BLUE  0.990085\n",
       "3        4      2019              1996     0.625      BLUE  0.999476\n",
       "4        5      2019              2003     0.625       RED  0.999118"
      ]
     },
     "execution_count": 3,
     "metadata": {},
     "output_type": "execute_result"
    }
   ],
   "source": [
    "# Visual of the dataset 'Meter Test Data'\n",
    "data_raw.head()"
   ]
  },
  {
   "cell_type": "markdown",
   "id": "de835208-bb8d-40aa-8007-c2deb8a86f26",
   "metadata": {},
   "source": [
    "Data frame definitions:<br>\n",
    "> **meterID**: A unique Identifier for each meter<br>\n",
    "**testYear**: The year the meter was pulled and tested (meters are discarded and replaced with another unit after testing)<br>\n",
    "**installationYear**: The year the meter was installed at the customer location<br>\n",
    "**meterSize**: The meter size (either 5/8 Inch, 3/4 Inch, or 1 Inch)<br>\n",
    "**meterMake**: The make of the meter (blue, green, or red)<br>\n",
    "**accuracy**: The proportion of volume capture by the meter"
   ]
  },
  {
   "cell_type": "code",
   "execution_count": 4,
   "id": "3ebfa9c7-d3cd-431a-804e-b051ca3d44e9",
   "metadata": {},
   "outputs": [
    {
     "data": {
      "text/html": [
       "<div>\n",
       "<style scoped>\n",
       "    .dataframe tbody tr th:only-of-type {\n",
       "        vertical-align: middle;\n",
       "    }\n",
       "\n",
       "    .dataframe tbody tr th {\n",
       "        vertical-align: top;\n",
       "    }\n",
       "\n",
       "    .dataframe thead th {\n",
       "        text-align: right;\n",
       "    }\n",
       "</style>\n",
       "<table border=\"1\" class=\"dataframe\">\n",
       "  <thead>\n",
       "    <tr style=\"text-align: right;\">\n",
       "      <th></th>\n",
       "      <th>meterID</th>\n",
       "      <th>testYear</th>\n",
       "      <th>installationYear</th>\n",
       "      <th>meterSize</th>\n",
       "      <th>meterMake</th>\n",
       "      <th>accuracy</th>\n",
       "    </tr>\n",
       "  </thead>\n",
       "  <tbody>\n",
       "    <tr>\n",
       "      <th>0</th>\n",
       "      <td>1</td>\n",
       "      <td>2019</td>\n",
       "      <td>1990</td>\n",
       "      <td>0.625</td>\n",
       "      <td>BLUE</td>\n",
       "      <td>98.78</td>\n",
       "    </tr>\n",
       "    <tr>\n",
       "      <th>1</th>\n",
       "      <td>2</td>\n",
       "      <td>2019</td>\n",
       "      <td>2008</td>\n",
       "      <td>0.625</td>\n",
       "      <td>BLUE</td>\n",
       "      <td>0.00</td>\n",
       "    </tr>\n",
       "    <tr>\n",
       "      <th>2</th>\n",
       "      <td>3</td>\n",
       "      <td>2019</td>\n",
       "      <td>1998</td>\n",
       "      <td>0.625</td>\n",
       "      <td>BLUE</td>\n",
       "      <td>99.01</td>\n",
       "    </tr>\n",
       "    <tr>\n",
       "      <th>3</th>\n",
       "      <td>4</td>\n",
       "      <td>2019</td>\n",
       "      <td>1996</td>\n",
       "      <td>0.625</td>\n",
       "      <td>BLUE</td>\n",
       "      <td>99.95</td>\n",
       "    </tr>\n",
       "    <tr>\n",
       "      <th>4</th>\n",
       "      <td>5</td>\n",
       "      <td>2019</td>\n",
       "      <td>2003</td>\n",
       "      <td>0.625</td>\n",
       "      <td>RED</td>\n",
       "      <td>99.91</td>\n",
       "    </tr>\n",
       "  </tbody>\n",
       "</table>\n",
       "</div>"
      ],
      "text/plain": [
       "   meterID  testYear  installationYear meterSize meterMake  accuracy\n",
       "0        1      2019              1990     0.625      BLUE     98.78\n",
       "1        2      2019              2008     0.625      BLUE      0.00\n",
       "2        3      2019              1998     0.625      BLUE     99.01\n",
       "3        4      2019              1996     0.625      BLUE     99.95\n",
       "4        5      2019              2003     0.625       RED     99.91"
      ]
     },
     "execution_count": 4,
     "metadata": {},
     "output_type": "execute_result"
    }
   ],
   "source": [
    "# Express the column 'accuracy' as percentage with two decimal places\n",
    "data_raw['accuracy'] = (data_raw['accuracy'] * 100).round(2)\n",
    "data_raw.head()"
   ]
  },
  {
   "cell_type": "code",
   "execution_count": 5,
   "id": "c3fb69a3-c11f-487b-96d4-4288f0a6ab46",
   "metadata": {},
   "outputs": [
    {
     "name": "stdout",
     "output_type": "stream",
     "text": [
      "The dataframe has 1969 rows and 6 columns.\n"
     ]
    }
   ],
   "source": [
    "# Size of the raw sample dataset\n",
    "print(f'The dataframe has {data_raw.shape[0]} rows and {data_raw.shape[1]} columns.')"
   ]
  },
  {
   "cell_type": "code",
   "execution_count": 6,
   "id": "26a5f023-59a2-43f7-a0d6-1ab0b50aba58",
   "metadata": {},
   "outputs": [
    {
     "data": {
      "text/html": [
       "<div>\n",
       "<style scoped>\n",
       "    .dataframe tbody tr th:only-of-type {\n",
       "        vertical-align: middle;\n",
       "    }\n",
       "\n",
       "    .dataframe tbody tr th {\n",
       "        vertical-align: top;\n",
       "    }\n",
       "\n",
       "    .dataframe thead th {\n",
       "        text-align: right;\n",
       "    }\n",
       "</style>\n",
       "<table border=\"1\" class=\"dataframe\">\n",
       "  <thead>\n",
       "    <tr style=\"text-align: right;\">\n",
       "      <th></th>\n",
       "      <th>meterID</th>\n",
       "      <th>testYear</th>\n",
       "      <th>installationYear</th>\n",
       "      <th>meterSize</th>\n",
       "      <th>meterMake</th>\n",
       "      <th>accuracy</th>\n",
       "      <th>age</th>\n",
       "    </tr>\n",
       "  </thead>\n",
       "  <tbody>\n",
       "    <tr>\n",
       "      <th>0</th>\n",
       "      <td>1</td>\n",
       "      <td>2019</td>\n",
       "      <td>1990</td>\n",
       "      <td>0.625</td>\n",
       "      <td>BLUE</td>\n",
       "      <td>98.78</td>\n",
       "      <td>30</td>\n",
       "    </tr>\n",
       "    <tr>\n",
       "      <th>1</th>\n",
       "      <td>2</td>\n",
       "      <td>2019</td>\n",
       "      <td>2008</td>\n",
       "      <td>0.625</td>\n",
       "      <td>BLUE</td>\n",
       "      <td>0.00</td>\n",
       "      <td>12</td>\n",
       "    </tr>\n",
       "    <tr>\n",
       "      <th>2</th>\n",
       "      <td>3</td>\n",
       "      <td>2019</td>\n",
       "      <td>1998</td>\n",
       "      <td>0.625</td>\n",
       "      <td>BLUE</td>\n",
       "      <td>99.01</td>\n",
       "      <td>22</td>\n",
       "    </tr>\n",
       "    <tr>\n",
       "      <th>3</th>\n",
       "      <td>4</td>\n",
       "      <td>2019</td>\n",
       "      <td>1996</td>\n",
       "      <td>0.625</td>\n",
       "      <td>BLUE</td>\n",
       "      <td>99.95</td>\n",
       "      <td>24</td>\n",
       "    </tr>\n",
       "    <tr>\n",
       "      <th>4</th>\n",
       "      <td>5</td>\n",
       "      <td>2019</td>\n",
       "      <td>2003</td>\n",
       "      <td>0.625</td>\n",
       "      <td>RED</td>\n",
       "      <td>99.91</td>\n",
       "      <td>17</td>\n",
       "    </tr>\n",
       "  </tbody>\n",
       "</table>\n",
       "</div>"
      ],
      "text/plain": [
       "   meterID  testYear  installationYear meterSize meterMake  accuracy  age\n",
       "0        1      2019              1990     0.625      BLUE     98.78   30\n",
       "1        2      2019              2008     0.625      BLUE      0.00   12\n",
       "2        3      2019              1998     0.625      BLUE     99.01   22\n",
       "3        4      2019              1996     0.625      BLUE     99.95   24\n",
       "4        5      2019              2003     0.625       RED     99.91   17"
      ]
     },
     "execution_count": 6,
     "metadata": {},
     "output_type": "execute_result"
    }
   ],
   "source": [
    "# A column named 'age' has been added to represent the age of the meters\n",
    "data_raw['age'] = 2020 - data_raw['installationYear']\n",
    "data_raw.head()"
   ]
  },
  {
   "cell_type": "code",
   "execution_count": 7,
   "id": "4adc6ece-8644-487d-9fdc-45160f0daaa2",
   "metadata": {},
   "outputs": [
    {
     "data": {
      "text/plain": [
       "meterID               int64\n",
       "testYear              int64\n",
       "installationYear      int64\n",
       "meterSize            object\n",
       "meterMake            object\n",
       "accuracy            float64\n",
       "age                   int64\n",
       "dtype: object"
      ]
     },
     "execution_count": 7,
     "metadata": {},
     "output_type": "execute_result"
    }
   ],
   "source": [
    "# Types of data \n",
    "data_raw.dtypes"
   ]
  },
  {
   "cell_type": "markdown",
   "id": "91180fc0-f799-4d23-a609-dda29afa57a0",
   "metadata": {
    "tags": []
   },
   "source": [
    "#### **Integrity Analysis**"
   ]
  },
  {
   "cell_type": "code",
   "execution_count": 8,
   "id": "c5294865-b612-4369-99bc-d870de69e285",
   "metadata": {},
   "outputs": [
    {
     "data": {
      "text/plain": [
       "array([0.625, '5/8\"', '1\"', 1, '5/8\" ', 0.75], dtype=object)"
      ]
     },
     "execution_count": 8,
     "metadata": {},
     "output_type": "execute_result"
    }
   ],
   "source": [
    "# Reviewing values in the 'meterSize' column for consistency\n",
    "data_raw.meterSize.unique()"
   ]
  },
  {
   "cell_type": "markdown",
   "id": "efa3a906-e2be-4723-9595-ea277870e0d1",
   "metadata": {},
   "source": [
    "The 'meterSize' column values should be standardized to adhere to three specific formats: 5/8 Inch, 3/4 Inch, and 1 Inch."
   ]
  },
  {
   "cell_type": "code",
   "execution_count": 9,
   "id": "63b5ba17-82b7-4c65-843f-c174d65e9514",
   "metadata": {},
   "outputs": [
    {
     "data": {
      "text/html": [
       "<div>\n",
       "<style scoped>\n",
       "    .dataframe tbody tr th:only-of-type {\n",
       "        vertical-align: middle;\n",
       "    }\n",
       "\n",
       "    .dataframe tbody tr th {\n",
       "        vertical-align: top;\n",
       "    }\n",
       "\n",
       "    .dataframe thead th {\n",
       "        text-align: right;\n",
       "    }\n",
       "</style>\n",
       "<table border=\"1\" class=\"dataframe\">\n",
       "  <thead>\n",
       "    <tr style=\"text-align: right;\">\n",
       "      <th></th>\n",
       "      <th>meterID</th>\n",
       "      <th>testYear</th>\n",
       "      <th>installationYear</th>\n",
       "      <th>meterSizeOriginal</th>\n",
       "      <th>meterMake</th>\n",
       "      <th>accuracy</th>\n",
       "      <th>age</th>\n",
       "    </tr>\n",
       "  </thead>\n",
       "  <tbody>\n",
       "    <tr>\n",
       "      <th>0</th>\n",
       "      <td>1</td>\n",
       "      <td>2019</td>\n",
       "      <td>1990</td>\n",
       "      <td>0.625</td>\n",
       "      <td>BLUE</td>\n",
       "      <td>98.78</td>\n",
       "      <td>30</td>\n",
       "    </tr>\n",
       "    <tr>\n",
       "      <th>1</th>\n",
       "      <td>2</td>\n",
       "      <td>2019</td>\n",
       "      <td>2008</td>\n",
       "      <td>0.625</td>\n",
       "      <td>BLUE</td>\n",
       "      <td>0.00</td>\n",
       "      <td>12</td>\n",
       "    </tr>\n",
       "    <tr>\n",
       "      <th>2</th>\n",
       "      <td>3</td>\n",
       "      <td>2019</td>\n",
       "      <td>1998</td>\n",
       "      <td>0.625</td>\n",
       "      <td>BLUE</td>\n",
       "      <td>99.01</td>\n",
       "      <td>22</td>\n",
       "    </tr>\n",
       "    <tr>\n",
       "      <th>3</th>\n",
       "      <td>4</td>\n",
       "      <td>2019</td>\n",
       "      <td>1996</td>\n",
       "      <td>0.625</td>\n",
       "      <td>BLUE</td>\n",
       "      <td>99.95</td>\n",
       "      <td>24</td>\n",
       "    </tr>\n",
       "    <tr>\n",
       "      <th>4</th>\n",
       "      <td>5</td>\n",
       "      <td>2019</td>\n",
       "      <td>2003</td>\n",
       "      <td>0.625</td>\n",
       "      <td>RED</td>\n",
       "      <td>99.91</td>\n",
       "      <td>17</td>\n",
       "    </tr>\n",
       "  </tbody>\n",
       "</table>\n",
       "</div>"
      ],
      "text/plain": [
       "   meterID  testYear  installationYear meterSizeOriginal meterMake  accuracy  \\\n",
       "0        1      2019              1990             0.625      BLUE     98.78   \n",
       "1        2      2019              2008             0.625      BLUE      0.00   \n",
       "2        3      2019              1998             0.625      BLUE     99.01   \n",
       "3        4      2019              1996             0.625      BLUE     99.95   \n",
       "4        5      2019              2003             0.625       RED     99.91   \n",
       "\n",
       "   age  \n",
       "0   30  \n",
       "1   12  \n",
       "2   22  \n",
       "3   24  \n",
       "4   17  "
      ]
     },
     "execution_count": 9,
     "metadata": {},
     "output_type": "execute_result"
    }
   ],
   "source": [
    "# We have renamed the column 'meterSize' as 'meterSizeOriginal' to distinguish it from corrected versions.\n",
    "data_raw = data_raw.rename(columns={'meterSize':'meterSizeOriginal'})\n",
    "data_raw.head()"
   ]
  },
  {
   "cell_type": "code",
   "execution_count": 10,
   "id": "765b0db3-2852-47dc-8900-4b4bbbfb396c",
   "metadata": {},
   "outputs": [],
   "source": [
    "# Create a new column 'meterSize' for standardizing values\n",
    "data_raw['meterSize'] = data_raw['meterSizeOriginal']"
   ]
  },
  {
   "cell_type": "code",
   "execution_count": 11,
   "id": "9285934f-6c14-49bb-a89c-c9360600ac75",
   "metadata": {},
   "outputs": [],
   "source": [
    "# Define a function to map 'meterSize' values (Standardization)\n",
    "def map_meter_size(value):\n",
    "    if value == 0.625 or value == '5/8\"' or value == '5/8\" ':\n",
    "        return \"5/8 Inch\"\n",
    "    elif value == '1\"' or value == 1:\n",
    "        return \"1 Inch\"\n",
    "    elif value == 0.75:\n",
    "        return \"3/4 Inch\"\n",
    "    else:\n",
    "        return value"
   ]
  },
  {
   "cell_type": "code",
   "execution_count": 12,
   "id": "d778efc1-c3af-4b5c-b23b-503019d28fec",
   "metadata": {},
   "outputs": [],
   "source": [
    "data_raw['meterSize'] = data_raw['meterSize'].apply(map_meter_size)"
   ]
  },
  {
   "cell_type": "code",
   "execution_count": 13,
   "id": "2412896c-023d-46c4-8e34-19fcc39c45b1",
   "metadata": {},
   "outputs": [
    {
     "data": {
      "text/html": [
       "<div>\n",
       "<style scoped>\n",
       "    .dataframe tbody tr th:only-of-type {\n",
       "        vertical-align: middle;\n",
       "    }\n",
       "\n",
       "    .dataframe tbody tr th {\n",
       "        vertical-align: top;\n",
       "    }\n",
       "\n",
       "    .dataframe thead th {\n",
       "        text-align: right;\n",
       "    }\n",
       "</style>\n",
       "<table border=\"1\" class=\"dataframe\">\n",
       "  <thead>\n",
       "    <tr style=\"text-align: right;\">\n",
       "      <th></th>\n",
       "      <th>meterID</th>\n",
       "      <th>testYear</th>\n",
       "      <th>installationYear</th>\n",
       "      <th>meterSizeOriginal</th>\n",
       "      <th>meterMake</th>\n",
       "      <th>accuracy</th>\n",
       "      <th>age</th>\n",
       "      <th>meterSize</th>\n",
       "    </tr>\n",
       "  </thead>\n",
       "  <tbody>\n",
       "    <tr>\n",
       "      <th>0</th>\n",
       "      <td>1</td>\n",
       "      <td>2019</td>\n",
       "      <td>1990</td>\n",
       "      <td>0.625</td>\n",
       "      <td>BLUE</td>\n",
       "      <td>98.78</td>\n",
       "      <td>30</td>\n",
       "      <td>5/8 Inch</td>\n",
       "    </tr>\n",
       "    <tr>\n",
       "      <th>1</th>\n",
       "      <td>2</td>\n",
       "      <td>2019</td>\n",
       "      <td>2008</td>\n",
       "      <td>0.625</td>\n",
       "      <td>BLUE</td>\n",
       "      <td>0.00</td>\n",
       "      <td>12</td>\n",
       "      <td>5/8 Inch</td>\n",
       "    </tr>\n",
       "    <tr>\n",
       "      <th>2</th>\n",
       "      <td>3</td>\n",
       "      <td>2019</td>\n",
       "      <td>1998</td>\n",
       "      <td>0.625</td>\n",
       "      <td>BLUE</td>\n",
       "      <td>99.01</td>\n",
       "      <td>22</td>\n",
       "      <td>5/8 Inch</td>\n",
       "    </tr>\n",
       "    <tr>\n",
       "      <th>3</th>\n",
       "      <td>4</td>\n",
       "      <td>2019</td>\n",
       "      <td>1996</td>\n",
       "      <td>0.625</td>\n",
       "      <td>BLUE</td>\n",
       "      <td>99.95</td>\n",
       "      <td>24</td>\n",
       "      <td>5/8 Inch</td>\n",
       "    </tr>\n",
       "    <tr>\n",
       "      <th>4</th>\n",
       "      <td>5</td>\n",
       "      <td>2019</td>\n",
       "      <td>2003</td>\n",
       "      <td>0.625</td>\n",
       "      <td>RED</td>\n",
       "      <td>99.91</td>\n",
       "      <td>17</td>\n",
       "      <td>5/8 Inch</td>\n",
       "    </tr>\n",
       "  </tbody>\n",
       "</table>\n",
       "</div>"
      ],
      "text/plain": [
       "   meterID  testYear  installationYear meterSizeOriginal meterMake  accuracy  \\\n",
       "0        1      2019              1990             0.625      BLUE     98.78   \n",
       "1        2      2019              2008             0.625      BLUE      0.00   \n",
       "2        3      2019              1998             0.625      BLUE     99.01   \n",
       "3        4      2019              1996             0.625      BLUE     99.95   \n",
       "4        5      2019              2003             0.625       RED     99.91   \n",
       "\n",
       "   age meterSize  \n",
       "0   30  5/8 Inch  \n",
       "1   12  5/8 Inch  \n",
       "2   22  5/8 Inch  \n",
       "3   24  5/8 Inch  \n",
       "4   17  5/8 Inch  "
      ]
     },
     "execution_count": 13,
     "metadata": {},
     "output_type": "execute_result"
    }
   ],
   "source": [
    "# Visual of the dataset\n",
    "data_raw.head()"
   ]
  },
  {
   "cell_type": "code",
   "execution_count": 14,
   "id": "5da27b76-1612-4d6e-9759-599d467b05e4",
   "metadata": {},
   "outputs": [
    {
     "data": {
      "text/plain": [
       "array(['5/8 Inch', '1 Inch', '3/4 Inch'], dtype=object)"
      ]
     },
     "execution_count": 14,
     "metadata": {},
     "output_type": "execute_result"
    }
   ],
   "source": [
    "# Checking that the values in the 'meterSize' column are consistent.\n",
    "data_raw.meterSize.unique()"
   ]
  },
  {
   "cell_type": "markdown",
   "id": "bc4ed46f-a66c-4b10-902b-ea25016c64be",
   "metadata": {
    "tags": []
   },
   "source": [
    "#### **Missing Values**"
   ]
  },
  {
   "cell_type": "code",
   "execution_count": 15,
   "id": "a09a4775-b294-4bed-92b6-19a9ff627478",
   "metadata": {},
   "outputs": [
    {
     "data": {
      "text/plain": [
       "meterID              0\n",
       "testYear             0\n",
       "installationYear     0\n",
       "meterSizeOriginal    0\n",
       "meterMake            0\n",
       "accuracy             0\n",
       "age                  0\n",
       "meterSize            0\n",
       "dtype: int64"
      ]
     },
     "execution_count": 15,
     "metadata": {},
     "output_type": "execute_result"
    }
   ],
   "source": [
    "# Checking for missing values in the dataset\n",
    "data_raw.isnull().sum()"
   ]
  },
  {
   "cell_type": "markdown",
   "id": "eda7c0f8-559f-4107-b564-ebb51aeb91fa",
   "metadata": {
    "tags": []
   },
   "source": [
    "#### **Data Duplicates**"
   ]
  },
  {
   "cell_type": "code",
   "execution_count": 16,
   "id": "a5015573-ce8c-4f91-988f-785b94ad876c",
   "metadata": {},
   "outputs": [
    {
     "data": {
      "text/html": [
       "<div>\n",
       "<style scoped>\n",
       "    .dataframe tbody tr th:only-of-type {\n",
       "        vertical-align: middle;\n",
       "    }\n",
       "\n",
       "    .dataframe tbody tr th {\n",
       "        vertical-align: top;\n",
       "    }\n",
       "\n",
       "    .dataframe thead th {\n",
       "        text-align: right;\n",
       "    }\n",
       "</style>\n",
       "<table border=\"1\" class=\"dataframe\">\n",
       "  <thead>\n",
       "    <tr style=\"text-align: right;\">\n",
       "      <th></th>\n",
       "      <th>meterID</th>\n",
       "      <th>testYear</th>\n",
       "      <th>installationYear</th>\n",
       "      <th>meterSizeOriginal</th>\n",
       "      <th>meterMake</th>\n",
       "      <th>accuracy</th>\n",
       "      <th>age</th>\n",
       "      <th>meterSize</th>\n",
       "    </tr>\n",
       "  </thead>\n",
       "  <tbody>\n",
       "    <tr>\n",
       "      <th>37</th>\n",
       "      <td>37</td>\n",
       "      <td>2019</td>\n",
       "      <td>2001</td>\n",
       "      <td>5/8\"</td>\n",
       "      <td>BLUE</td>\n",
       "      <td>99.75</td>\n",
       "      <td>19</td>\n",
       "      <td>5/8 Inch</td>\n",
       "    </tr>\n",
       "    <tr>\n",
       "      <th>378</th>\n",
       "      <td>377</td>\n",
       "      <td>2019</td>\n",
       "      <td>2000</td>\n",
       "      <td>0.625</td>\n",
       "      <td>RED</td>\n",
       "      <td>99.34</td>\n",
       "      <td>20</td>\n",
       "      <td>5/8 Inch</td>\n",
       "    </tr>\n",
       "    <tr>\n",
       "      <th>523</th>\n",
       "      <td>521</td>\n",
       "      <td>2019</td>\n",
       "      <td>2005</td>\n",
       "      <td>0.625</td>\n",
       "      <td>BLUE</td>\n",
       "      <td>99.97</td>\n",
       "      <td>15</td>\n",
       "      <td>5/8 Inch</td>\n",
       "    </tr>\n",
       "    <tr>\n",
       "      <th>571</th>\n",
       "      <td>568</td>\n",
       "      <td>2019</td>\n",
       "      <td>1997</td>\n",
       "      <td>0.625</td>\n",
       "      <td>BLUE</td>\n",
       "      <td>99.06</td>\n",
       "      <td>23</td>\n",
       "      <td>5/8 Inch</td>\n",
       "    </tr>\n",
       "    <tr>\n",
       "      <th>1106</th>\n",
       "      <td>1102</td>\n",
       "      <td>2019</td>\n",
       "      <td>2005</td>\n",
       "      <td>0.625</td>\n",
       "      <td>BLUE</td>\n",
       "      <td>98.35</td>\n",
       "      <td>15</td>\n",
       "      <td>5/8 Inch</td>\n",
       "    </tr>\n",
       "    <tr>\n",
       "      <th>1344</th>\n",
       "      <td>1339</td>\n",
       "      <td>2019</td>\n",
       "      <td>2001</td>\n",
       "      <td>0.625</td>\n",
       "      <td>BLUE</td>\n",
       "      <td>98.53</td>\n",
       "      <td>19</td>\n",
       "      <td>5/8 Inch</td>\n",
       "    </tr>\n",
       "    <tr>\n",
       "      <th>1893</th>\n",
       "      <td>1887</td>\n",
       "      <td>2019</td>\n",
       "      <td>1996</td>\n",
       "      <td>0.625</td>\n",
       "      <td>RED</td>\n",
       "      <td>99.44</td>\n",
       "      <td>24</td>\n",
       "      <td>5/8 Inch</td>\n",
       "    </tr>\n",
       "  </tbody>\n",
       "</table>\n",
       "</div>"
      ],
      "text/plain": [
       "      meterID  testYear  installationYear meterSizeOriginal meterMake  \\\n",
       "37         37      2019              2001              5/8\"      BLUE   \n",
       "378       377      2019              2000             0.625       RED   \n",
       "523       521      2019              2005             0.625      BLUE   \n",
       "571       568      2019              1997             0.625      BLUE   \n",
       "1106     1102      2019              2005             0.625      BLUE   \n",
       "1344     1339      2019              2001             0.625      BLUE   \n",
       "1893     1887      2019              1996             0.625       RED   \n",
       "\n",
       "      accuracy  age meterSize  \n",
       "37       99.75   19  5/8 Inch  \n",
       "378      99.34   20  5/8 Inch  \n",
       "523      99.97   15  5/8 Inch  \n",
       "571      99.06   23  5/8 Inch  \n",
       "1106     98.35   15  5/8 Inch  \n",
       "1344     98.53   19  5/8 Inch  \n",
       "1893     99.44   24  5/8 Inch  "
      ]
     },
     "execution_count": 16,
     "metadata": {},
     "output_type": "execute_result"
    }
   ],
   "source": [
    "# Checking for duplicates\n",
    "data_duplicate = data_raw[data_raw.duplicated()]\n",
    "data_duplicate"
   ]
  },
  {
   "cell_type": "code",
   "execution_count": 17,
   "id": "bf62256b-30a1-42c0-aecf-a4c66e338361",
   "metadata": {},
   "outputs": [
    {
     "name": "stdout",
     "output_type": "stream",
     "text": [
      "Duplicate entries identified in the dataset: 7\n"
     ]
    }
   ],
   "source": [
    "# Number of Duplicates in the dataset\n",
    "print(f'Duplicate entries identified in the dataset: {data_duplicate.count()[0]}')"
   ]
  },
  {
   "cell_type": "code",
   "execution_count": 18,
   "id": "35203815-476b-4f14-a000-fa9440d3ce9d",
   "metadata": {},
   "outputs": [
    {
     "data": {
      "text/html": [
       "<style type=\"text/css\">\n",
       "#T_a3d5a_row1_col0, #T_a3d5a_row1_col1, #T_a3d5a_row1_col2, #T_a3d5a_row1_col3, #T_a3d5a_row1_col4, #T_a3d5a_row1_col5, #T_a3d5a_row1_col6, #T_a3d5a_row1_col7 {\n",
       "  background-color: #90EE90;\n",
       "}\n",
       "#T_a3d5a_row2_col0, #T_a3d5a_row2_col1, #T_a3d5a_row2_col2, #T_a3d5a_row2_col3, #T_a3d5a_row2_col4, #T_a3d5a_row2_col5, #T_a3d5a_row2_col6, #T_a3d5a_row2_col7 {\n",
       "  background-color: red;\n",
       "}\n",
       "</style>\n",
       "<table id=\"T_a3d5a_\">\n",
       "  <thead>\n",
       "    <tr>\n",
       "      <th class=\"blank level0\" >&nbsp;</th>\n",
       "      <th class=\"col_heading level0 col0\" >meterID</th>\n",
       "      <th class=\"col_heading level0 col1\" >testYear</th>\n",
       "      <th class=\"col_heading level0 col2\" >installationYear</th>\n",
       "      <th class=\"col_heading level0 col3\" >meterSizeOriginal</th>\n",
       "      <th class=\"col_heading level0 col4\" >meterMake</th>\n",
       "      <th class=\"col_heading level0 col5\" >accuracy</th>\n",
       "      <th class=\"col_heading level0 col6\" >age</th>\n",
       "      <th class=\"col_heading level0 col7\" >meterSize</th>\n",
       "    </tr>\n",
       "  </thead>\n",
       "  <tbody>\n",
       "    <tr>\n",
       "      <th id=\"T_a3d5a_level0_row0\" class=\"row_heading level0 row0\" >35</th>\n",
       "      <td id=\"T_a3d5a_row0_col0\" class=\"data row0 col0\" >36</td>\n",
       "      <td id=\"T_a3d5a_row0_col1\" class=\"data row0 col1\" >2019</td>\n",
       "      <td id=\"T_a3d5a_row0_col2\" class=\"data row0 col2\" >1976</td>\n",
       "      <td id=\"T_a3d5a_row0_col3\" class=\"data row0 col3\" >0.625000</td>\n",
       "      <td id=\"T_a3d5a_row0_col4\" class=\"data row0 col4\" >BLUE</td>\n",
       "      <td id=\"T_a3d5a_row0_col5\" class=\"data row0 col5\" >81.520000</td>\n",
       "      <td id=\"T_a3d5a_row0_col6\" class=\"data row0 col6\" >44</td>\n",
       "      <td id=\"T_a3d5a_row0_col7\" class=\"data row0 col7\" >5/8 Inch</td>\n",
       "    </tr>\n",
       "    <tr>\n",
       "      <th id=\"T_a3d5a_level0_row1\" class=\"row_heading level0 row1\" >36</th>\n",
       "      <td id=\"T_a3d5a_row1_col0\" class=\"data row1 col0\" >37</td>\n",
       "      <td id=\"T_a3d5a_row1_col1\" class=\"data row1 col1\" >2019</td>\n",
       "      <td id=\"T_a3d5a_row1_col2\" class=\"data row1 col2\" >2001</td>\n",
       "      <td id=\"T_a3d5a_row1_col3\" class=\"data row1 col3\" >5/8\"</td>\n",
       "      <td id=\"T_a3d5a_row1_col4\" class=\"data row1 col4\" >BLUE</td>\n",
       "      <td id=\"T_a3d5a_row1_col5\" class=\"data row1 col5\" >99.750000</td>\n",
       "      <td id=\"T_a3d5a_row1_col6\" class=\"data row1 col6\" >19</td>\n",
       "      <td id=\"T_a3d5a_row1_col7\" class=\"data row1 col7\" >5/8 Inch</td>\n",
       "    </tr>\n",
       "    <tr>\n",
       "      <th id=\"T_a3d5a_level0_row2\" class=\"row_heading level0 row2\" >37</th>\n",
       "      <td id=\"T_a3d5a_row2_col0\" class=\"data row2 col0\" >37</td>\n",
       "      <td id=\"T_a3d5a_row2_col1\" class=\"data row2 col1\" >2019</td>\n",
       "      <td id=\"T_a3d5a_row2_col2\" class=\"data row2 col2\" >2001</td>\n",
       "      <td id=\"T_a3d5a_row2_col3\" class=\"data row2 col3\" >5/8\"</td>\n",
       "      <td id=\"T_a3d5a_row2_col4\" class=\"data row2 col4\" >BLUE</td>\n",
       "      <td id=\"T_a3d5a_row2_col5\" class=\"data row2 col5\" >99.750000</td>\n",
       "      <td id=\"T_a3d5a_row2_col6\" class=\"data row2 col6\" >19</td>\n",
       "      <td id=\"T_a3d5a_row2_col7\" class=\"data row2 col7\" >5/8 Inch</td>\n",
       "    </tr>\n",
       "    <tr>\n",
       "      <th id=\"T_a3d5a_level0_row3\" class=\"row_heading level0 row3\" >38</th>\n",
       "      <td id=\"T_a3d5a_row3_col0\" class=\"data row3 col0\" >38</td>\n",
       "      <td id=\"T_a3d5a_row3_col1\" class=\"data row3 col1\" >2019</td>\n",
       "      <td id=\"T_a3d5a_row3_col2\" class=\"data row3 col2\" >1992</td>\n",
       "      <td id=\"T_a3d5a_row3_col3\" class=\"data row3 col3\" >0.625000</td>\n",
       "      <td id=\"T_a3d5a_row3_col4\" class=\"data row3 col4\" >BLUE</td>\n",
       "      <td id=\"T_a3d5a_row3_col5\" class=\"data row3 col5\" >97.950000</td>\n",
       "      <td id=\"T_a3d5a_row3_col6\" class=\"data row3 col6\" >28</td>\n",
       "      <td id=\"T_a3d5a_row3_col7\" class=\"data row3 col7\" >5/8 Inch</td>\n",
       "    </tr>\n",
       "  </tbody>\n",
       "</table>\n"
      ],
      "text/plain": [
       "<pandas.io.formats.style.Styler at 0x2592821be08>"
      ]
     },
     "execution_count": 18,
     "metadata": {},
     "output_type": "execute_result"
    }
   ],
   "source": [
    "# Verifying whether row 37 is a duplicate of row 36\n",
    "duplicate_check = data_raw.loc[35:38]\n",
    "\n",
    "# Define a function for conditional formatting\n",
    "def highlight_rows(row):\n",
    "    highlighted_rows = {36: 'background-color: #90EE90', 37: 'background-color: red'}\n",
    "    return [highlighted_rows.get(row.name, '') for _ in row]\n",
    "\n",
    "# Apply the conditional formatting to the DataFrame\n",
    "styled_duplicate_check = duplicate_check.style.apply(highlight_rows, axis=1)\n",
    "\n",
    "# Display the styled DataFrame\n",
    "styled_duplicate_check"
   ]
  },
  {
   "cell_type": "code",
   "execution_count": 19,
   "id": "b73969b4-0cd6-456c-8c55-8273ac15081c",
   "metadata": {},
   "outputs": [],
   "source": [
    "# Drop duplicates\n",
    "data_raw.drop_duplicates(inplace=True)"
   ]
  },
  {
   "cell_type": "code",
   "execution_count": 20,
   "id": "f4292e85-76b4-40cf-9949-f9db0090a64e",
   "metadata": {},
   "outputs": [
    {
     "name": "stdout",
     "output_type": "stream",
     "text": [
      "Size of the dataset after the removal of duplicates: 1962 records\n"
     ]
    }
   ],
   "source": [
    "# Verifying the removal of the duplicates from the dataset (original raw dataset had 1969 records)\n",
    "print(f'Size of the dataset after the removal of duplicates: {data_raw.value_counts().sum()} records')"
   ]
  },
  {
   "cell_type": "markdown",
   "id": "810f2d3d-174b-4632-9cf6-5a15d5a7fd68",
   "metadata": {
    "tags": []
   },
   "source": [
    "#### **Inconsistency in the column 'accuracy'**"
   ]
  },
  {
   "cell_type": "code",
   "execution_count": 21,
   "id": "5d9822c0-8da2-48cc-8351-a714170557ba",
   "metadata": {},
   "outputs": [
    {
     "data": {
      "text/html": [
       "<div>\n",
       "<style scoped>\n",
       "    .dataframe tbody tr th:only-of-type {\n",
       "        vertical-align: middle;\n",
       "    }\n",
       "\n",
       "    .dataframe tbody tr th {\n",
       "        vertical-align: top;\n",
       "    }\n",
       "\n",
       "    .dataframe thead th {\n",
       "        text-align: right;\n",
       "    }\n",
       "</style>\n",
       "<table border=\"1\" class=\"dataframe\">\n",
       "  <thead>\n",
       "    <tr style=\"text-align: right;\">\n",
       "      <th></th>\n",
       "      <th>meterID</th>\n",
       "      <th>testYear</th>\n",
       "      <th>installationYear</th>\n",
       "      <th>meterSizeOriginal</th>\n",
       "      <th>meterMake</th>\n",
       "      <th>accuracy</th>\n",
       "      <th>age</th>\n",
       "      <th>meterSize</th>\n",
       "    </tr>\n",
       "  </thead>\n",
       "  <tbody>\n",
       "    <tr>\n",
       "      <th>607</th>\n",
       "      <td>604</td>\n",
       "      <td>2019</td>\n",
       "      <td>1956</td>\n",
       "      <td>0.625</td>\n",
       "      <td>GREEN</td>\n",
       "      <td>-3.76</td>\n",
       "      <td>64</td>\n",
       "      <td>5/8 Inch</td>\n",
       "    </tr>\n",
       "    <tr>\n",
       "      <th>867</th>\n",
       "      <td>864</td>\n",
       "      <td>2019</td>\n",
       "      <td>1960</td>\n",
       "      <td>0.625</td>\n",
       "      <td>GREEN</td>\n",
       "      <td>-3.77</td>\n",
       "      <td>60</td>\n",
       "      <td>5/8 Inch</td>\n",
       "    </tr>\n",
       "    <tr>\n",
       "      <th>1026</th>\n",
       "      <td>1023</td>\n",
       "      <td>2019</td>\n",
       "      <td>2004</td>\n",
       "      <td>5/8\"</td>\n",
       "      <td>BLUE</td>\n",
       "      <td>-3.81</td>\n",
       "      <td>16</td>\n",
       "      <td>5/8 Inch</td>\n",
       "    </tr>\n",
       "    <tr>\n",
       "      <th>1234</th>\n",
       "      <td>1230</td>\n",
       "      <td>2019</td>\n",
       "      <td>1998</td>\n",
       "      <td>0.625</td>\n",
       "      <td>BLUE</td>\n",
       "      <td>-3.88</td>\n",
       "      <td>22</td>\n",
       "      <td>5/8 Inch</td>\n",
       "    </tr>\n",
       "    <tr>\n",
       "      <th>1254</th>\n",
       "      <td>1250</td>\n",
       "      <td>2019</td>\n",
       "      <td>2006</td>\n",
       "      <td>0.625</td>\n",
       "      <td>BLUE</td>\n",
       "      <td>-3.80</td>\n",
       "      <td>14</td>\n",
       "      <td>5/8 Inch</td>\n",
       "    </tr>\n",
       "    <tr>\n",
       "      <th>1349</th>\n",
       "      <td>1344</td>\n",
       "      <td>2019</td>\n",
       "      <td>1998</td>\n",
       "      <td>0.625</td>\n",
       "      <td>BLUE</td>\n",
       "      <td>-3.86</td>\n",
       "      <td>22</td>\n",
       "      <td>5/8 Inch</td>\n",
       "    </tr>\n",
       "    <tr>\n",
       "      <th>1425</th>\n",
       "      <td>1420</td>\n",
       "      <td>2019</td>\n",
       "      <td>1956</td>\n",
       "      <td>0.625</td>\n",
       "      <td>GREEN</td>\n",
       "      <td>-3.74</td>\n",
       "      <td>64</td>\n",
       "      <td>5/8 Inch</td>\n",
       "    </tr>\n",
       "    <tr>\n",
       "      <th>1743</th>\n",
       "      <td>1738</td>\n",
       "      <td>2019</td>\n",
       "      <td>2006</td>\n",
       "      <td>0.625</td>\n",
       "      <td>BLUE</td>\n",
       "      <td>-3.77</td>\n",
       "      <td>14</td>\n",
       "      <td>5/8 Inch</td>\n",
       "    </tr>\n",
       "  </tbody>\n",
       "</table>\n",
       "</div>"
      ],
      "text/plain": [
       "      meterID  testYear  installationYear meterSizeOriginal meterMake  \\\n",
       "607       604      2019              1956             0.625     GREEN   \n",
       "867       864      2019              1960             0.625     GREEN   \n",
       "1026     1023      2019              2004              5/8\"      BLUE   \n",
       "1234     1230      2019              1998             0.625      BLUE   \n",
       "1254     1250      2019              2006             0.625      BLUE   \n",
       "1349     1344      2019              1998             0.625      BLUE   \n",
       "1425     1420      2019              1956             0.625     GREEN   \n",
       "1743     1738      2019              2006             0.625      BLUE   \n",
       "\n",
       "      accuracy  age meterSize  \n",
       "607      -3.76   64  5/8 Inch  \n",
       "867      -3.77   60  5/8 Inch  \n",
       "1026     -3.81   16  5/8 Inch  \n",
       "1234     -3.88   22  5/8 Inch  \n",
       "1254     -3.80   14  5/8 Inch  \n",
       "1349     -3.86   22  5/8 Inch  \n",
       "1425     -3.74   64  5/8 Inch  \n",
       "1743     -3.77   14  5/8 Inch  "
      ]
     },
     "execution_count": 21,
     "metadata": {},
     "output_type": "execute_result"
    }
   ],
   "source": [
    "# Negative Accuracies: test results with accuracy below zero\n",
    "data_below_zero = data_raw.loc[data_raw['accuracy'] < 0]\n",
    "data_below_zero"
   ]
  },
  {
   "cell_type": "code",
   "execution_count": 22,
   "id": "ed1ad35a-f992-4a51-a573-6df258b14c1e",
   "metadata": {},
   "outputs": [
    {
     "name": "stdout",
     "output_type": "stream",
     "text": [
      "Negative Accuracy: 8 records\n"
     ]
    }
   ],
   "source": [
    "# The count of Negative accuracies in the dataset\n",
    "print(f'Negative Accuracy: {data_below_zero.value_counts().sum()} records')"
   ]
  },
  {
   "cell_type": "code",
   "execution_count": 23,
   "id": "396996f1-4e93-460f-9739-476b0fac5b25",
   "metadata": {},
   "outputs": [
    {
     "data": {
      "text/html": [
       "<div>\n",
       "<style scoped>\n",
       "    .dataframe tbody tr th:only-of-type {\n",
       "        vertical-align: middle;\n",
       "    }\n",
       "\n",
       "    .dataframe tbody tr th {\n",
       "        vertical-align: top;\n",
       "    }\n",
       "\n",
       "    .dataframe thead th {\n",
       "        text-align: right;\n",
       "    }\n",
       "</style>\n",
       "<table border=\"1\" class=\"dataframe\">\n",
       "  <thead>\n",
       "    <tr style=\"text-align: right;\">\n",
       "      <th></th>\n",
       "      <th>meterID</th>\n",
       "      <th>testYear</th>\n",
       "      <th>installationYear</th>\n",
       "      <th>meterSizeOriginal</th>\n",
       "      <th>meterMake</th>\n",
       "      <th>accuracy</th>\n",
       "      <th>age</th>\n",
       "      <th>meterSize</th>\n",
       "    </tr>\n",
       "  </thead>\n",
       "  <tbody>\n",
       "    <tr>\n",
       "      <th>6</th>\n",
       "      <td>7</td>\n",
       "      <td>2019</td>\n",
       "      <td>2010</td>\n",
       "      <td>5/8\"</td>\n",
       "      <td>BLUE</td>\n",
       "      <td>100.60</td>\n",
       "      <td>10</td>\n",
       "      <td>5/8 Inch</td>\n",
       "    </tr>\n",
       "    <tr>\n",
       "      <th>8</th>\n",
       "      <td>9</td>\n",
       "      <td>2019</td>\n",
       "      <td>1995</td>\n",
       "      <td>0.625</td>\n",
       "      <td>RED</td>\n",
       "      <td>100.23</td>\n",
       "      <td>25</td>\n",
       "      <td>5/8 Inch</td>\n",
       "    </tr>\n",
       "    <tr>\n",
       "      <th>18</th>\n",
       "      <td>19</td>\n",
       "      <td>2019</td>\n",
       "      <td>1998</td>\n",
       "      <td>5/8\"</td>\n",
       "      <td>BLUE</td>\n",
       "      <td>100.73</td>\n",
       "      <td>22</td>\n",
       "      <td>5/8 Inch</td>\n",
       "    </tr>\n",
       "    <tr>\n",
       "      <th>28</th>\n",
       "      <td>29</td>\n",
       "      <td>2019</td>\n",
       "      <td>1991</td>\n",
       "      <td>0.625</td>\n",
       "      <td>RED</td>\n",
       "      <td>100.06</td>\n",
       "      <td>29</td>\n",
       "      <td>5/8 Inch</td>\n",
       "    </tr>\n",
       "    <tr>\n",
       "      <th>39</th>\n",
       "      <td>39</td>\n",
       "      <td>2019</td>\n",
       "      <td>2008</td>\n",
       "      <td>0.625</td>\n",
       "      <td>BLUE</td>\n",
       "      <td>100.16</td>\n",
       "      <td>12</td>\n",
       "      <td>5/8 Inch</td>\n",
       "    </tr>\n",
       "  </tbody>\n",
       "</table>\n",
       "</div>"
      ],
      "text/plain": [
       "    meterID  testYear  installationYear meterSizeOriginal meterMake  accuracy  \\\n",
       "6         7      2019              2010              5/8\"      BLUE    100.60   \n",
       "8         9      2019              1995             0.625       RED    100.23   \n",
       "18       19      2019              1998              5/8\"      BLUE    100.73   \n",
       "28       29      2019              1991             0.625       RED    100.06   \n",
       "39       39      2019              2008             0.625      BLUE    100.16   \n",
       "\n",
       "    age meterSize  \n",
       "6    10  5/8 Inch  \n",
       "8    25  5/8 Inch  \n",
       "18   22  5/8 Inch  \n",
       "28   29  5/8 Inch  \n",
       "39   12  5/8 Inch  "
      ]
     },
     "execution_count": 23,
     "metadata": {},
     "output_type": "execute_result"
    }
   ],
   "source": [
    "# Over-registering Meters: test results with accuracy greater than 100%\n",
    "data_over_reg = data_raw.loc[data_raw['accuracy'] > 100]\n",
    "data_over_reg.head()"
   ]
  },
  {
   "cell_type": "code",
   "execution_count": 24,
   "id": "b9538336-2bf2-4f72-8bcf-68fcc0562d40",
   "metadata": {},
   "outputs": [
    {
     "name": "stdout",
     "output_type": "stream",
     "text": [
      "Over-registering: 365 records\n"
     ]
    }
   ],
   "source": [
    "# The count of Over-registering meters in the dataset is 365\n",
    "print(f'Over-registering: {data_over_reg.value_counts().sum()} records')"
   ]
  },
  {
   "cell_type": "code",
   "execution_count": 25,
   "id": "9242d831-2404-4dce-a0b6-fd0bb431da11",
   "metadata": {},
   "outputs": [
    {
     "data": {
      "text/html": [
       "<div>\n",
       "<style scoped>\n",
       "    .dataframe tbody tr th:only-of-type {\n",
       "        vertical-align: middle;\n",
       "    }\n",
       "\n",
       "    .dataframe tbody tr th {\n",
       "        vertical-align: top;\n",
       "    }\n",
       "\n",
       "    .dataframe thead th {\n",
       "        text-align: right;\n",
       "    }\n",
       "</style>\n",
       "<table border=\"1\" class=\"dataframe\">\n",
       "  <thead>\n",
       "    <tr style=\"text-align: right;\">\n",
       "      <th></th>\n",
       "      <th>meterID</th>\n",
       "      <th>testYear</th>\n",
       "      <th>installationYear</th>\n",
       "      <th>meterSizeOriginal</th>\n",
       "      <th>meterMake</th>\n",
       "      <th>accuracy</th>\n",
       "      <th>age</th>\n",
       "      <th>meterSize</th>\n",
       "    </tr>\n",
       "  </thead>\n",
       "  <tbody>\n",
       "    <tr>\n",
       "      <th>1</th>\n",
       "      <td>2</td>\n",
       "      <td>2019</td>\n",
       "      <td>2008</td>\n",
       "      <td>0.625</td>\n",
       "      <td>BLUE</td>\n",
       "      <td>0.0</td>\n",
       "      <td>12</td>\n",
       "      <td>5/8 Inch</td>\n",
       "    </tr>\n",
       "    <tr>\n",
       "      <th>153</th>\n",
       "      <td>153</td>\n",
       "      <td>2019</td>\n",
       "      <td>2009</td>\n",
       "      <td>0.625</td>\n",
       "      <td>BLUE</td>\n",
       "      <td>0.0</td>\n",
       "      <td>11</td>\n",
       "      <td>5/8 Inch</td>\n",
       "    </tr>\n",
       "    <tr>\n",
       "      <th>184</th>\n",
       "      <td>184</td>\n",
       "      <td>2019</td>\n",
       "      <td>1956</td>\n",
       "      <td>5/8\"</td>\n",
       "      <td>GREEN</td>\n",
       "      <td>0.0</td>\n",
       "      <td>64</td>\n",
       "      <td>5/8 Inch</td>\n",
       "    </tr>\n",
       "    <tr>\n",
       "      <th>329</th>\n",
       "      <td>329</td>\n",
       "      <td>2019</td>\n",
       "      <td>2005</td>\n",
       "      <td>1</td>\n",
       "      <td>RED</td>\n",
       "      <td>0.0</td>\n",
       "      <td>15</td>\n",
       "      <td>1 Inch</td>\n",
       "    </tr>\n",
       "    <tr>\n",
       "      <th>428</th>\n",
       "      <td>427</td>\n",
       "      <td>2019</td>\n",
       "      <td>1972</td>\n",
       "      <td>0.625</td>\n",
       "      <td>RED</td>\n",
       "      <td>0.0</td>\n",
       "      <td>48</td>\n",
       "      <td>5/8 Inch</td>\n",
       "    </tr>\n",
       "  </tbody>\n",
       "</table>\n",
       "</div>"
      ],
      "text/plain": [
       "     meterID  testYear  installationYear meterSizeOriginal meterMake  \\\n",
       "1          2      2019              2008             0.625      BLUE   \n",
       "153      153      2019              2009             0.625      BLUE   \n",
       "184      184      2019              1956              5/8\"     GREEN   \n",
       "329      329      2019              2005                 1       RED   \n",
       "428      427      2019              1972             0.625       RED   \n",
       "\n",
       "     accuracy  age meterSize  \n",
       "1         0.0   12  5/8 Inch  \n",
       "153       0.0   11  5/8 Inch  \n",
       "184       0.0   64  5/8 Inch  \n",
       "329       0.0   15    1 Inch  \n",
       "428       0.0   48  5/8 Inch  "
      ]
     },
     "execution_count": 25,
     "metadata": {},
     "output_type": "execute_result"
    }
   ],
   "source": [
    "# Stuck meters: test results with accuracy equal to zero\n",
    "data_stuck_meter = data_raw.loc[data_raw['accuracy'] == 0]\n",
    "data_stuck_meter.head()"
   ]
  },
  {
   "cell_type": "code",
   "execution_count": 26,
   "id": "9c984883-aa5e-415a-92cc-6fcff31309e0",
   "metadata": {},
   "outputs": [
    {
     "name": "stdout",
     "output_type": "stream",
     "text": [
      "Stuck meters: 16 records\n"
     ]
    }
   ],
   "source": [
    "# The count of Stuck meters in the dataset is 16\n",
    "print(f'Stuck meters: {data_stuck_meter.value_counts().sum()} records')"
   ]
  },
  {
   "cell_type": "code",
   "execution_count": 27,
   "id": "33346e12-c17c-4de4-9f31-cda6c2eee633",
   "metadata": {},
   "outputs": [
    {
     "data": {
      "image/png": "[encoded data removed]",
      "text/plain": [
       "<Figure size 400x400 with 1 Axes>"
      ]
     },
     "metadata": {},
     "output_type": "display_data"
    }
   ],
   "source": [
    "# Visualization of the Inconsistencies in the Accuracy Field from the sample dataset\n",
    "divisions = ['Over-registering', 'Negative Accuracy', 'Records', 'Stuck meter']\n",
    "values = [365, 8, 1573, 16]  # Percentage values for each division\n",
    "myexplode=[0.001, 0.001, 0.001, 0.001]\n",
    "plt.figure(figsize = (4,4))\n",
    "\n",
    "# Create a pie chart\n",
    "pie_chart = plt.pie(values, labels=divisions, autopct='%1.2f%%',radius=0.3, startangle=45, \n",
    "        explode=myexplode, shadow=False, textprops={'color': 'white'})\n",
    "\n",
    "# Set aspect ratio to be equal, creating a circle.\n",
    "plt.axis('equal')\n",
    "\n",
    "# Manually set label color to black\n",
    "for text in pie_chart[1]:\n",
    "    text.set_color('black')\n",
    "\n",
    "# Set the Title\n",
    "plt.title('Inconsistencies in Accuracy', fontsize=14)\n",
    "\n",
    "# Display the pie chart\n",
    "plt.show();"
   ]
  },
  {
   "cell_type": "code",
   "execution_count": 28,
   "id": "3413479f-ca8d-4c98-8f31-2c571b8a0998",
   "metadata": {},
   "outputs": [
    {
     "data": {
      "text/html": [
       "<div>\n",
       "<style scoped>\n",
       "    .dataframe tbody tr th:only-of-type {\n",
       "        vertical-align: middle;\n",
       "    }\n",
       "\n",
       "    .dataframe tbody tr th {\n",
       "        vertical-align: top;\n",
       "    }\n",
       "\n",
       "    .dataframe thead th {\n",
       "        text-align: right;\n",
       "    }\n",
       "</style>\n",
       "<table border=\"1\" class=\"dataframe\">\n",
       "  <thead>\n",
       "    <tr style=\"text-align: right;\">\n",
       "      <th></th>\n",
       "      <th>meterID</th>\n",
       "      <th>testYear</th>\n",
       "      <th>installationYear</th>\n",
       "      <th>meterSizeOriginal</th>\n",
       "      <th>meterMake</th>\n",
       "      <th>accuracy</th>\n",
       "      <th>age</th>\n",
       "      <th>meterSize</th>\n",
       "    </tr>\n",
       "  </thead>\n",
       "  <tbody>\n",
       "    <tr>\n",
       "      <th>0</th>\n",
       "      <td>1</td>\n",
       "      <td>2019</td>\n",
       "      <td>1990</td>\n",
       "      <td>0.625</td>\n",
       "      <td>BLUE</td>\n",
       "      <td>98.78</td>\n",
       "      <td>30</td>\n",
       "      <td>5/8 Inch</td>\n",
       "    </tr>\n",
       "    <tr>\n",
       "      <th>1</th>\n",
       "      <td>2</td>\n",
       "      <td>2019</td>\n",
       "      <td>2008</td>\n",
       "      <td>0.625</td>\n",
       "      <td>BLUE</td>\n",
       "      <td>0.00</td>\n",
       "      <td>12</td>\n",
       "      <td>5/8 Inch</td>\n",
       "    </tr>\n",
       "    <tr>\n",
       "      <th>2</th>\n",
       "      <td>3</td>\n",
       "      <td>2019</td>\n",
       "      <td>1998</td>\n",
       "      <td>0.625</td>\n",
       "      <td>BLUE</td>\n",
       "      <td>99.01</td>\n",
       "      <td>22</td>\n",
       "      <td>5/8 Inch</td>\n",
       "    </tr>\n",
       "    <tr>\n",
       "      <th>3</th>\n",
       "      <td>4</td>\n",
       "      <td>2019</td>\n",
       "      <td>1996</td>\n",
       "      <td>0.625</td>\n",
       "      <td>BLUE</td>\n",
       "      <td>99.95</td>\n",
       "      <td>24</td>\n",
       "      <td>5/8 Inch</td>\n",
       "    </tr>\n",
       "    <tr>\n",
       "      <th>4</th>\n",
       "      <td>5</td>\n",
       "      <td>2019</td>\n",
       "      <td>2003</td>\n",
       "      <td>0.625</td>\n",
       "      <td>RED</td>\n",
       "      <td>99.91</td>\n",
       "      <td>17</td>\n",
       "      <td>5/8 Inch</td>\n",
       "    </tr>\n",
       "  </tbody>\n",
       "</table>\n",
       "</div>"
      ],
      "text/plain": [
       "   meterID  testYear  installationYear meterSizeOriginal meterMake  accuracy  \\\n",
       "0        1      2019              1990             0.625      BLUE     98.78   \n",
       "1        2      2019              2008             0.625      BLUE      0.00   \n",
       "2        3      2019              1998             0.625      BLUE     99.01   \n",
       "3        4      2019              1996             0.625      BLUE     99.95   \n",
       "4        5      2019              2003             0.625       RED     99.91   \n",
       "\n",
       "   age meterSize  \n",
       "0   30  5/8 Inch  \n",
       "1   12  5/8 Inch  \n",
       "2   22  5/8 Inch  \n",
       "3   24  5/8 Inch  \n",
       "4   17  5/8 Inch  "
      ]
     },
     "execution_count": 28,
     "metadata": {},
     "output_type": "execute_result"
    }
   ],
   "source": [
    "# Fix the Negative and Over-registering accuracy\n",
    "# Negative accuracy + 100\n",
    "# Over-registering = 100\n",
    "mask1 = data_raw['accuracy'] < 0\n",
    "mask2 = data_raw['accuracy'] > 100\n",
    "data_raw.loc[mask1, 'accuracy'] += 100\n",
    "data_raw.loc[mask2, 'accuracy'] = 100\n",
    "data_raw.head()"
   ]
  },
  {
   "cell_type": "markdown",
   "id": "4db6dc39-1ae7-4bd9-9bff-5a55d901c837",
   "metadata": {
    "tags": []
   },
   "source": [
    "#### **Remove Stuck meters records from the dataset**"
   ]
  },
  {
   "cell_type": "code",
   "execution_count": 29,
   "id": "0189309c-bbd5-41eb-83d5-440cf53f22dc",
   "metadata": {},
   "outputs": [
    {
     "data": {
      "text/html": [
       "<div>\n",
       "<style scoped>\n",
       "    .dataframe tbody tr th:only-of-type {\n",
       "        vertical-align: middle;\n",
       "    }\n",
       "\n",
       "    .dataframe tbody tr th {\n",
       "        vertical-align: top;\n",
       "    }\n",
       "\n",
       "    .dataframe thead th {\n",
       "        text-align: right;\n",
       "    }\n",
       "</style>\n",
       "<table border=\"1\" class=\"dataframe\">\n",
       "  <thead>\n",
       "    <tr style=\"text-align: right;\">\n",
       "      <th></th>\n",
       "      <th>meterID</th>\n",
       "      <th>testYear</th>\n",
       "      <th>installationYear</th>\n",
       "      <th>meterSizeOriginal</th>\n",
       "      <th>meterMake</th>\n",
       "      <th>accuracy</th>\n",
       "      <th>age</th>\n",
       "      <th>meterSize</th>\n",
       "    </tr>\n",
       "  </thead>\n",
       "  <tbody>\n",
       "    <tr>\n",
       "      <th>0</th>\n",
       "      <td>1</td>\n",
       "      <td>2019</td>\n",
       "      <td>1990</td>\n",
       "      <td>0.625</td>\n",
       "      <td>BLUE</td>\n",
       "      <td>98.78</td>\n",
       "      <td>30</td>\n",
       "      <td>5/8 Inch</td>\n",
       "    </tr>\n",
       "    <tr>\n",
       "      <th>2</th>\n",
       "      <td>3</td>\n",
       "      <td>2019</td>\n",
       "      <td>1998</td>\n",
       "      <td>0.625</td>\n",
       "      <td>BLUE</td>\n",
       "      <td>99.01</td>\n",
       "      <td>22</td>\n",
       "      <td>5/8 Inch</td>\n",
       "    </tr>\n",
       "    <tr>\n",
       "      <th>3</th>\n",
       "      <td>4</td>\n",
       "      <td>2019</td>\n",
       "      <td>1996</td>\n",
       "      <td>0.625</td>\n",
       "      <td>BLUE</td>\n",
       "      <td>99.95</td>\n",
       "      <td>24</td>\n",
       "      <td>5/8 Inch</td>\n",
       "    </tr>\n",
       "    <tr>\n",
       "      <th>4</th>\n",
       "      <td>5</td>\n",
       "      <td>2019</td>\n",
       "      <td>2003</td>\n",
       "      <td>0.625</td>\n",
       "      <td>RED</td>\n",
       "      <td>99.91</td>\n",
       "      <td>17</td>\n",
       "      <td>5/8 Inch</td>\n",
       "    </tr>\n",
       "    <tr>\n",
       "      <th>5</th>\n",
       "      <td>6</td>\n",
       "      <td>2019</td>\n",
       "      <td>1998</td>\n",
       "      <td>0.625</td>\n",
       "      <td>BLUE</td>\n",
       "      <td>98.75</td>\n",
       "      <td>22</td>\n",
       "      <td>5/8 Inch</td>\n",
       "    </tr>\n",
       "  </tbody>\n",
       "</table>\n",
       "</div>"
      ],
      "text/plain": [
       "   meterID  testYear  installationYear meterSizeOriginal meterMake  accuracy  \\\n",
       "0        1      2019              1990             0.625      BLUE     98.78   \n",
       "2        3      2019              1998             0.625      BLUE     99.01   \n",
       "3        4      2019              1996             0.625      BLUE     99.95   \n",
       "4        5      2019              2003             0.625       RED     99.91   \n",
       "5        6      2019              1998             0.625      BLUE     98.75   \n",
       "\n",
       "   age meterSize  \n",
       "0   30  5/8 Inch  \n",
       "2   22  5/8 Inch  \n",
       "3   24  5/8 Inch  \n",
       "4   17  5/8 Inch  \n",
       "5   22  5/8 Inch  "
      ]
     },
     "execution_count": 29,
     "metadata": {},
     "output_type": "execute_result"
    }
   ],
   "source": [
    "# Filtering rows based on conditions to select only the data with accuracy values ranging from greater than 0% to 100%\n",
    "data_raw = data_raw[(data_raw['accuracy'] > 0) & (data_raw['accuracy'] <= 100)]\n",
    "data_raw.head()"
   ]
  },
  {
   "cell_type": "code",
   "execution_count": 30,
   "id": "13be4a63-1b7a-473f-b582-6f80938943af",
   "metadata": {},
   "outputs": [
    {
     "data": {
      "text/plain": [
       "1946"
      ]
     },
     "execution_count": 30,
     "metadata": {},
     "output_type": "execute_result"
    }
   ],
   "source": [
    "# Size of the sample dataset after removing the Stuck meters\n",
    "data_raw.value_counts().sum()"
   ]
  },
  {
   "cell_type": "markdown",
   "id": "5af63583-75a1-4fce-94e0-0d2885b484f7",
   "metadata": {
    "tags": []
   },
   "source": [
    "#### **Descriptive Analysis of the sample dataset: Meter Test**"
   ]
  },
  {
   "cell_type": "code",
   "execution_count": 31,
   "id": "e035a8af-3f4e-43e5-b053-70f5540dfb4b",
   "metadata": {},
   "outputs": [
    {
     "name": "stdout",
     "output_type": "stream",
     "text": [
      "<class 'pandas.core.frame.DataFrame'>\n",
      "Int64Index: 1946 entries, 0 to 1968\n",
      "Data columns (total 8 columns):\n",
      " #   Column             Non-Null Count  Dtype  \n",
      "---  ------             --------------  -----  \n",
      " 0   meterID            1946 non-null   int64  \n",
      " 1   testYear           1946 non-null   int64  \n",
      " 2   installationYear   1946 non-null   int64  \n",
      " 3   meterSizeOriginal  1946 non-null   object \n",
      " 4   meterMake          1946 non-null   object \n",
      " 5   accuracy           1946 non-null   float64\n",
      " 6   age                1946 non-null   int64  \n",
      " 7   meterSize          1946 non-null   object \n",
      "dtypes: float64(1), int64(4), object(3)\n",
      "memory usage: 136.8+ KB\n"
     ]
    }
   ],
   "source": [
    "# Description of the dataset: Meter Test\n",
    "data_raw.info()"
   ]
  },
  {
   "cell_type": "code",
   "execution_count": 32,
   "id": "94c87583-d927-4a9c-b2dc-3b4794ffd1ac",
   "metadata": {},
   "outputs": [
    {
     "data": {
      "text/html": [
       "<div>\n",
       "<style scoped>\n",
       "    .dataframe tbody tr th:only-of-type {\n",
       "        vertical-align: middle;\n",
       "    }\n",
       "\n",
       "    .dataframe tbody tr th {\n",
       "        vertical-align: top;\n",
       "    }\n",
       "\n",
       "    .dataframe thead th {\n",
       "        text-align: right;\n",
       "    }\n",
       "</style>\n",
       "<table border=\"1\" class=\"dataframe\">\n",
       "  <thead>\n",
       "    <tr style=\"text-align: right;\">\n",
       "      <th></th>\n",
       "      <th>meterID</th>\n",
       "      <th>testYear</th>\n",
       "      <th>installationYear</th>\n",
       "      <th>meterMake</th>\n",
       "      <th>accuracy</th>\n",
       "      <th>age</th>\n",
       "      <th>meterSize</th>\n",
       "    </tr>\n",
       "  </thead>\n",
       "  <tbody>\n",
       "    <tr>\n",
       "      <th>0</th>\n",
       "      <td>1</td>\n",
       "      <td>2019</td>\n",
       "      <td>1990</td>\n",
       "      <td>BLUE</td>\n",
       "      <td>98.78</td>\n",
       "      <td>30</td>\n",
       "      <td>5/8 Inch</td>\n",
       "    </tr>\n",
       "    <tr>\n",
       "      <th>2</th>\n",
       "      <td>3</td>\n",
       "      <td>2019</td>\n",
       "      <td>1998</td>\n",
       "      <td>BLUE</td>\n",
       "      <td>99.01</td>\n",
       "      <td>22</td>\n",
       "      <td>5/8 Inch</td>\n",
       "    </tr>\n",
       "    <tr>\n",
       "      <th>3</th>\n",
       "      <td>4</td>\n",
       "      <td>2019</td>\n",
       "      <td>1996</td>\n",
       "      <td>BLUE</td>\n",
       "      <td>99.95</td>\n",
       "      <td>24</td>\n",
       "      <td>5/8 Inch</td>\n",
       "    </tr>\n",
       "  </tbody>\n",
       "</table>\n",
       "</div>"
      ],
      "text/plain": [
       "   meterID  testYear  installationYear meterMake  accuracy  age meterSize\n",
       "0        1      2019              1990      BLUE     98.78   30  5/8 Inch\n",
       "2        3      2019              1998      BLUE     99.01   22  5/8 Inch\n",
       "3        4      2019              1996      BLUE     99.95   24  5/8 Inch"
      ]
     },
     "execution_count": 32,
     "metadata": {},
     "output_type": "execute_result"
    }
   ],
   "source": [
    "# We created a clean dataframe for our analysis, excluding the 'meterSizeOriginal' column\n",
    "df = data_raw.copy()\n",
    "df = df.drop(columns=['meterSizeOriginal'])\n",
    "df.head(3)"
   ]
  },
  {
   "cell_type": "code",
   "execution_count": 33,
   "id": "b599b817-df79-418e-890e-1c6ab18ce55e",
   "metadata": {},
   "outputs": [
    {
     "data": {
      "text/html": [
       "<div>\n",
       "<style scoped>\n",
       "    .dataframe tbody tr th:only-of-type {\n",
       "        vertical-align: middle;\n",
       "    }\n",
       "\n",
       "    .dataframe tbody tr th {\n",
       "        vertical-align: top;\n",
       "    }\n",
       "\n",
       "    .dataframe thead th {\n",
       "        text-align: right;\n",
       "    }\n",
       "</style>\n",
       "<table border=\"1\" class=\"dataframe\">\n",
       "  <thead>\n",
       "    <tr style=\"text-align: right;\">\n",
       "      <th></th>\n",
       "      <th>count</th>\n",
       "      <th>mean</th>\n",
       "      <th>std</th>\n",
       "      <th>min</th>\n",
       "      <th>25%</th>\n",
       "      <th>50%</th>\n",
       "      <th>75%</th>\n",
       "      <th>max</th>\n",
       "    </tr>\n",
       "  </thead>\n",
       "  <tbody>\n",
       "    <tr>\n",
       "      <th>installationYear</th>\n",
       "      <td>1946.0</td>\n",
       "      <td>1997.24</td>\n",
       "      <td>14.20</td>\n",
       "      <td>1942.00</td>\n",
       "      <td>1993.00</td>\n",
       "      <td>2000.00</td>\n",
       "      <td>2006.00</td>\n",
       "      <td>2020.0</td>\n",
       "    </tr>\n",
       "    <tr>\n",
       "      <th>accuracy</th>\n",
       "      <td>1946.0</td>\n",
       "      <td>96.87</td>\n",
       "      <td>8.64</td>\n",
       "      <td>1.13</td>\n",
       "      <td>98.03</td>\n",
       "      <td>99.08</td>\n",
       "      <td>99.83</td>\n",
       "      <td>100.0</td>\n",
       "    </tr>\n",
       "    <tr>\n",
       "      <th>age</th>\n",
       "      <td>1946.0</td>\n",
       "      <td>22.76</td>\n",
       "      <td>14.20</td>\n",
       "      <td>0.00</td>\n",
       "      <td>14.00</td>\n",
       "      <td>20.00</td>\n",
       "      <td>27.00</td>\n",
       "      <td>78.0</td>\n",
       "    </tr>\n",
       "  </tbody>\n",
       "</table>\n",
       "</div>"
      ],
      "text/plain": [
       "                   count     mean    std      min      25%      50%      75%  \\\n",
       "installationYear  1946.0  1997.24  14.20  1942.00  1993.00  2000.00  2006.00   \n",
       "accuracy          1946.0    96.87   8.64     1.13    98.03    99.08    99.83   \n",
       "age               1946.0    22.76  14.20     0.00    14.00    20.00    27.00   \n",
       "\n",
       "                     max  \n",
       "installationYear  2020.0  \n",
       "accuracy           100.0  \n",
       "age                 78.0  "
      ]
     },
     "execution_count": 33,
     "metadata": {},
     "output_type": "execute_result"
    }
   ],
   "source": [
    "# Summary statistics of the sample dataset\n",
    "df.loc[:,['installationYear','accuracy','age']].describe().transpose().round(2)"
   ]
  },
  {
   "cell_type": "markdown",
   "id": "edba72b8-381c-4eb1-b8d5-ddc22efa6474",
   "metadata": {
    "tags": []
   },
   "source": [
    "#### **Installation Year**"
   ]
  },
  {
   "cell_type": "code",
   "execution_count": 34,
   "id": "d0ff30b0-3fb4-40bd-8835-b42ede95f38c",
   "metadata": {},
   "outputs": [
    {
     "data": {
      "image/png": "[encoded data removed]",
      "text/plain": [
       "<Figure size 800x300 with 1 Axes>"
      ]
     },
     "metadata": {},
     "output_type": "display_data"
    }
   ],
   "source": [
    "# Histogram of Installation Year\n",
    "fig, ax1 = plt.subplots(figsize=(8, 3))\n",
    "sns.despine(left=True)\n",
    "\n",
    "sns.histplot(df['installationYear'], ax=ax1, \n",
    "             bins=range(df['installationYear'].min(), df['installationYear'].max() + 1), stat='count')\n",
    "\n",
    "ax1.set(xlabel='Installation Year', ylabel='Count', title='Installation Year')\n",
    "plt.show()"
   ]
  },
  {
   "cell_type": "markdown",
   "id": "2193f55e-59ea-434b-9092-413ce86e111c",
   "metadata": {},
   "source": [
    "**Installation Year**\n",
    ">* We observed that the initial installations date back to 1942, with the majority of meters installed during the period from 1990 to 2012, and between 1950 and 1960.\n",
    ">* We observe a bimodal distribution with two distinct peaks, indicating a left-skewed pattern. The dataset spans a range of 78 years, capturing records from different periods.\n",
    ">* The peak year for installations occurred in 1998 and 2004, with a total of 91 completed installations."
   ]
  },
  {
   "cell_type": "code",
   "execution_count": 35,
   "id": "a16fe245-2be3-4b94-b491-f9875a926712",
   "metadata": {},
   "outputs": [
    {
     "data": {
      "text/plain": [
       "1998    91\n",
       "2004    91\n",
       "1996    90\n",
       "Name: installationYear, dtype: int64"
      ]
     },
     "execution_count": 35,
     "metadata": {},
     "output_type": "execute_result"
    }
   ],
   "source": [
    "# The first three years with the highest installation rates\n",
    "df['installationYear'].value_counts().head(3)"
   ]
  },
  {
   "cell_type": "markdown",
   "id": "89417a17-70a7-4f8f-910d-0e3f4bb76eb2",
   "metadata": {
    "tags": []
   },
   "source": [
    "#### **Accuracy**"
   ]
  },
  {
   "cell_type": "code",
   "execution_count": 36,
   "id": "fc6f24b0-0e89-43e1-828d-716655144505",
   "metadata": {},
   "outputs": [
    {
     "data": {
      "image/png": "[encoded data removed]",
      "text/plain": [
       "<Figure size 800x300 with 1 Axes>"
      ]
     },
     "metadata": {},
     "output_type": "display_data"
    }
   ],
   "source": [
    "# Histogram of Accuracy\n",
    "fig, ax2 = plt.subplots(figsize=(8,3))\n",
    "sns.despine(left=True)\n",
    "sns.histplot(df['accuracy'], ax=ax2)\n",
    "ax2.set(xlabel='Percentage of Accuracy');"
   ]
  },
  {
   "cell_type": "markdown",
   "id": "9fc22f93-8d08-4c08-b317-3293a9a864ef",
   "metadata": {},
   "source": [
    "**Accuracy**\n",
    ">* Interquartile range (IQR) = Q3 - Q1 = 1.80. It's a small value, which indicates low variability in the central part of the data. The majority of the data is concentrated between 98.03% and 99.83% accuracy.\n",
    ">* We observe that the mean value (96.87%) is slightly lower than the median (99.08%) value. This suggests a negatively skewed distribution.\n",
    ">* The mean accuracy of the dataset is 96.87%, the median of 99.08%, and a minimum of 1.13%."
   ]
  },
  {
   "cell_type": "markdown",
   "id": "a7b21e8a-f37e-43fa-af2f-17816908cc59",
   "metadata": {
    "tags": []
   },
   "source": [
    "#### **Age**"
   ]
  },
  {
   "cell_type": "code",
   "execution_count": 37,
   "id": "a61817ea-bac2-4a58-a3e0-23ecfef5e575",
   "metadata": {},
   "outputs": [
    {
     "data": {
      "image/png": "[encoded data removed]",
      "text/plain": [
       "<Figure size 800x300 with 1 Axes>"
      ]
     },
     "metadata": {},
     "output_type": "display_data"
    }
   ],
   "source": [
    "# Histogram of Age\n",
    "fig, ax3 = plt.subplots(figsize=(8,3))\n",
    "sns.despine(left=True)\n",
    "sns.histplot(df['age'], ax=ax3)\n",
    "ax3.set(xlabel='Age of meters');"
   ]
  },
  {
   "cell_type": "markdown",
   "id": "519a72d0-2cb0-4538-8bb3-e91c6de37736",
   "metadata": {},
   "source": [
    "**Age**\n",
    ">* The age range of the meters spans 78 years\n",
    ">* On average, the meters are 22.76 years old, with the oldest one reaching 78 years.\n",
    ">* The majority of meters range from 9 to 30 years old since installation, with 16 and 22 years being the most common age."
   ]
  },
  {
   "cell_type": "code",
   "execution_count": 38,
   "id": "db8451ee-8994-4e67-b7e4-1cb087ff2634",
   "metadata": {},
   "outputs": [
    {
     "data": {
      "text/plain": [
       "22    91\n",
       "16    91\n",
       "24    90\n",
       "Name: age, dtype: int64"
      ]
     },
     "execution_count": 38,
     "metadata": {},
     "output_type": "execute_result"
    }
   ],
   "source": [
    "# The ages of the first three installations with the highest frequency.\n",
    "df['age'].value_counts().head(3)"
   ]
  },
  {
   "cell_type": "code",
   "execution_count": 39,
   "id": "2fcfabe1-c2ef-41fe-a83e-783a5c48c647",
   "metadata": {},
   "outputs": [
    {
     "data": {
      "text/html": [
       "<div>\n",
       "<style scoped>\n",
       "    .dataframe tbody tr th:only-of-type {\n",
       "        vertical-align: middle;\n",
       "    }\n",
       "\n",
       "    .dataframe tbody tr th {\n",
       "        vertical-align: top;\n",
       "    }\n",
       "\n",
       "    .dataframe thead th {\n",
       "        text-align: right;\n",
       "    }\n",
       "</style>\n",
       "<table border=\"1\" class=\"dataframe\">\n",
       "  <thead>\n",
       "    <tr style=\"text-align: right;\">\n",
       "      <th></th>\n",
       "      <th>accuracy</th>\n",
       "      <th>age</th>\n",
       "    </tr>\n",
       "  </thead>\n",
       "  <tbody>\n",
       "    <tr>\n",
       "      <th>accuracy</th>\n",
       "      <td>1.00000</td>\n",
       "      <td>-0.26002</td>\n",
       "    </tr>\n",
       "    <tr>\n",
       "      <th>age</th>\n",
       "      <td>-0.26002</td>\n",
       "      <td>1.00000</td>\n",
       "    </tr>\n",
       "  </tbody>\n",
       "</table>\n",
       "</div>"
      ],
      "text/plain": [
       "          accuracy      age\n",
       "accuracy   1.00000 -0.26002\n",
       "age       -0.26002  1.00000"
      ]
     },
     "execution_count": 39,
     "metadata": {},
     "output_type": "execute_result"
    }
   ],
   "source": [
    "# Correlation between Accuracy and Age\n",
    "corr= df.loc[:,['accuracy','age']].corr()\n",
    "corr"
   ]
  },
  {
   "cell_type": "markdown",
   "id": "d42f8f9e-f809-4028-bd68-284c4f959499",
   "metadata": {},
   "source": [
    "The correlation coefficient indicates a low negative correlation between the accuracy of meters and their age. This implies that as meters get older, they also become less accurate; however, this relationship is not particularly strong in reality."
   ]
  },
  {
   "cell_type": "markdown",
   "id": "acb96901-98b6-490a-97bc-0838b935844d",
   "metadata": {
    "tags": []
   },
   "source": [
    "#### **Explanatory Analysis**"
   ]
  },
  {
   "cell_type": "markdown",
   "id": "fbf42be0-9e32-4eb6-bc5e-6dd57d443ccf",
   "metadata": {
    "tags": []
   },
   "source": [
    "##### **Meter Makes vs Accuracy and Age**"
   ]
  },
  {
   "cell_type": "code",
   "execution_count": 40,
   "id": "ef23e2fd-db49-4148-ad99-5384af5a9a90",
   "metadata": {},
   "outputs": [
    {
     "data": {
      "text/html": [
       "<style type=\"text/css\">\n",
       "#T_c6298_row0_col0, #T_c6298_row0_col8, #T_c6298_row2_col5 {\n",
       "  background-color: #ADD8E6;\n",
       "}\n",
       "#T_c6298_row1_col2, #T_c6298_row1_col3, #T_c6298_row1_col5 {\n",
       "  background-color: red;\n",
       "}\n",
       "#T_c6298_row1_col9, #T_c6298_row1_col15 {\n",
       "  background-color: #90EE90;\n",
       "}\n",
       "</style>\n",
       "<table id=\"T_c6298_\">\n",
       "  <thead>\n",
       "    <tr>\n",
       "      <th class=\"blank level0\" >&nbsp;</th>\n",
       "      <th class=\"col_heading level0 col0\" colspan=\"8\">accuracy</th>\n",
       "      <th class=\"col_heading level0 col8\" colspan=\"8\">age</th>\n",
       "    </tr>\n",
       "    <tr>\n",
       "      <th class=\"blank level1\" >&nbsp;</th>\n",
       "      <th class=\"col_heading level1 col0\" >count</th>\n",
       "      <th class=\"col_heading level1 col1\" >mean</th>\n",
       "      <th class=\"col_heading level1 col2\" >std</th>\n",
       "      <th class=\"col_heading level1 col3\" >min</th>\n",
       "      <th class=\"col_heading level1 col4\" >25%</th>\n",
       "      <th class=\"col_heading level1 col5\" >50%</th>\n",
       "      <th class=\"col_heading level1 col6\" >75%</th>\n",
       "      <th class=\"col_heading level1 col7\" >max</th>\n",
       "      <th class=\"col_heading level1 col8\" >count</th>\n",
       "      <th class=\"col_heading level1 col9\" >mean</th>\n",
       "      <th class=\"col_heading level1 col10\" >std</th>\n",
       "      <th class=\"col_heading level1 col11\" >min</th>\n",
       "      <th class=\"col_heading level1 col12\" >25%</th>\n",
       "      <th class=\"col_heading level1 col13\" >50%</th>\n",
       "      <th class=\"col_heading level1 col14\" >75%</th>\n",
       "      <th class=\"col_heading level1 col15\" >max</th>\n",
       "    </tr>\n",
       "    <tr>\n",
       "      <th class=\"index_name level0\" >meterMake</th>\n",
       "      <th class=\"blank col0\" >&nbsp;</th>\n",
       "      <th class=\"blank col1\" >&nbsp;</th>\n",
       "      <th class=\"blank col2\" >&nbsp;</th>\n",
       "      <th class=\"blank col3\" >&nbsp;</th>\n",
       "      <th class=\"blank col4\" >&nbsp;</th>\n",
       "      <th class=\"blank col5\" >&nbsp;</th>\n",
       "      <th class=\"blank col6\" >&nbsp;</th>\n",
       "      <th class=\"blank col7\" >&nbsp;</th>\n",
       "      <th class=\"blank col8\" >&nbsp;</th>\n",
       "      <th class=\"blank col9\" >&nbsp;</th>\n",
       "      <th class=\"blank col10\" >&nbsp;</th>\n",
       "      <th class=\"blank col11\" >&nbsp;</th>\n",
       "      <th class=\"blank col12\" >&nbsp;</th>\n",
       "      <th class=\"blank col13\" >&nbsp;</th>\n",
       "      <th class=\"blank col14\" >&nbsp;</th>\n",
       "      <th class=\"blank col15\" >&nbsp;</th>\n",
       "    </tr>\n",
       "  </thead>\n",
       "  <tbody>\n",
       "    <tr>\n",
       "      <th id=\"T_c6298_level0_row0\" class=\"row_heading level0 row0\" >BLUE</th>\n",
       "      <td id=\"T_c6298_row0_col0\" class=\"data row0 col0\" >1366.00</td>\n",
       "      <td id=\"T_c6298_row0_col1\" class=\"data row0 col1\" >96.83</td>\n",
       "      <td id=\"T_c6298_row0_col2\" class=\"data row0 col2\" >7.69</td>\n",
       "      <td id=\"T_c6298_row0_col3\" class=\"data row0 col3\" >14.74</td>\n",
       "      <td id=\"T_c6298_row0_col4\" class=\"data row0 col4\" >97.87</td>\n",
       "      <td id=\"T_c6298_row0_col5\" class=\"data row0 col5\" >98.93</td>\n",
       "      <td id=\"T_c6298_row0_col6\" class=\"data row0 col6\" >99.58</td>\n",
       "      <td id=\"T_c6298_row0_col7\" class=\"data row0 col7\" >100.00</td>\n",
       "      <td id=\"T_c6298_row0_col8\" class=\"data row0 col8\" >1366.00</td>\n",
       "      <td id=\"T_c6298_row0_col9\" class=\"data row0 col9\" >20.10</td>\n",
       "      <td id=\"T_c6298_row0_col10\" class=\"data row0 col10\" >8.46</td>\n",
       "      <td id=\"T_c6298_row0_col11\" class=\"data row0 col11\" >6.00</td>\n",
       "      <td id=\"T_c6298_row0_col12\" class=\"data row0 col12\" >13.00</td>\n",
       "      <td id=\"T_c6298_row0_col13\" class=\"data row0 col13\" >20.00</td>\n",
       "      <td id=\"T_c6298_row0_col14\" class=\"data row0 col14\" >25.00</td>\n",
       "      <td id=\"T_c6298_row0_col15\" class=\"data row0 col15\" >58.00</td>\n",
       "    </tr>\n",
       "    <tr>\n",
       "      <th id=\"T_c6298_level0_row1\" class=\"row_heading level0 row1\" >GREEN</th>\n",
       "      <td id=\"T_c6298_row1_col0\" class=\"data row1 col0\" >134.00</td>\n",
       "      <td id=\"T_c6298_row1_col1\" class=\"data row1 col1\" >89.17</td>\n",
       "      <td id=\"T_c6298_row1_col2\" class=\"data row1 col2\" >19.02</td>\n",
       "      <td id=\"T_c6298_row1_col3\" class=\"data row1 col3\" >1.13</td>\n",
       "      <td id=\"T_c6298_row1_col4\" class=\"data row1 col4\" >87.23</td>\n",
       "      <td id=\"T_c6298_row1_col5\" class=\"data row1 col5\" >95.50</td>\n",
       "      <td id=\"T_c6298_row1_col6\" class=\"data row1 col6\" >98.30</td>\n",
       "      <td id=\"T_c6298_row1_col7\" class=\"data row1 col7\" >100.00</td>\n",
       "      <td id=\"T_c6298_row1_col8\" class=\"data row1 col8\" >134.00</td>\n",
       "      <td id=\"T_c6298_row1_col9\" class=\"data row1 col9\" >64.93</td>\n",
       "      <td id=\"T_c6298_row1_col10\" class=\"data row1 col10\" >4.00</td>\n",
       "      <td id=\"T_c6298_row1_col11\" class=\"data row1 col11\" >40.00</td>\n",
       "      <td id=\"T_c6298_row1_col12\" class=\"data row1 col12\" >63.00</td>\n",
       "      <td id=\"T_c6298_row1_col13\" class=\"data row1 col13\" >65.00</td>\n",
       "      <td id=\"T_c6298_row1_col14\" class=\"data row1 col14\" >68.00</td>\n",
       "      <td id=\"T_c6298_row1_col15\" class=\"data row1 col15\" >78.00</td>\n",
       "    </tr>\n",
       "    <tr>\n",
       "      <th id=\"T_c6298_level0_row2\" class=\"row_heading level0 row2\" >RED</th>\n",
       "      <td id=\"T_c6298_row2_col0\" class=\"data row2 col0\" >446.00</td>\n",
       "      <td id=\"T_c6298_row2_col1\" class=\"data row2 col1\" >99.32</td>\n",
       "      <td id=\"T_c6298_row2_col2\" class=\"data row2 col2\" >3.63</td>\n",
       "      <td id=\"T_c6298_row2_col3\" class=\"data row2 col3\" >26.40</td>\n",
       "      <td id=\"T_c6298_row2_col4\" class=\"data row2 col4\" >99.28</td>\n",
       "      <td id=\"T_c6298_row2_col5\" class=\"data row2 col5\" >99.92</td>\n",
       "      <td id=\"T_c6298_row2_col6\" class=\"data row2 col6\" >100.00</td>\n",
       "      <td id=\"T_c6298_row2_col7\" class=\"data row2 col7\" >100.00</td>\n",
       "      <td id=\"T_c6298_row2_col8\" class=\"data row2 col8\" >446.00</td>\n",
       "      <td id=\"T_c6298_row2_col9\" class=\"data row2 col9\" >18.26</td>\n",
       "      <td id=\"T_c6298_row2_col10\" class=\"data row2 col10\" >8.93</td>\n",
       "      <td id=\"T_c6298_row2_col11\" class=\"data row2 col11\" >0.00</td>\n",
       "      <td id=\"T_c6298_row2_col12\" class=\"data row2 col12\" >11.00</td>\n",
       "      <td id=\"T_c6298_row2_col13\" class=\"data row2 col13\" >18.00</td>\n",
       "      <td id=\"T_c6298_row2_col14\" class=\"data row2 col14\" >25.00</td>\n",
       "      <td id=\"T_c6298_row2_col15\" class=\"data row2 col15\" >69.00</td>\n",
       "    </tr>\n",
       "  </tbody>\n",
       "</table>\n"
      ],
      "text/plain": [
       "<pandas.io.formats.style.Styler at 0x25929050908>"
      ]
     },
     "execution_count": 40,
     "metadata": {},
     "output_type": "execute_result"
    }
   ],
   "source": [
    "# Summary Statistics for meterMake vs accuracy and age\n",
    "list1 = ['accuracy','age']\n",
    "df_make = df.groupby('meterMake')[list1].describe().round(2)\n",
    "\n",
    "# Define a function for conditional formatting\n",
    "def highlight_condition(value):\n",
    "    if value == df_make.iloc[0:1,0:1].values:\n",
    "        return 'background-color: #ADD8E6' # Light Blue\n",
    "    if value == df_make.iloc[2:3,5:6].values:\n",
    "        return 'background-color: #ADD8E6' # Light Blue\n",
    "    if value == df_make.iloc[1:2,5:6].values:\n",
    "        return 'background-color: red'\n",
    "    if value == df_make.iloc[1:2,3:4].values:\n",
    "        return 'background-color: red'\n",
    "    if value == df_make.iloc[1:2,2:3].values:\n",
    "        return 'background-color: red'\n",
    "    if value == df_make.iloc[1:2,15:16].values:\n",
    "        return 'background-color: #90EE90' # Light Green\n",
    "    if value == df_make.iloc[1:2,9:10].values:\n",
    "        return 'background-color: #90EE90' # Light Green\n",
    "    \n",
    "    else:\n",
    "        return ''\n",
    "\n",
    "# Apply the conditional formatting to the DataFrame\n",
    "styled_df_make = df_make.style.applymap(highlight_condition)\n",
    "\n",
    "# Round the values in the DataFrame after applying styling\n",
    "rounded_styled_df_make = styled_df_make.format('{:.2f}')\n",
    "\n",
    "# Display the styled and rounded DataFrame\n",
    "rounded_styled_df_make"
   ]
  },
  {
   "cell_type": "markdown",
   "id": "c4e71af1-8fc8-4ff6-b0f0-1eff9ddcd5e2",
   "metadata": {},
   "source": [
    ">* Accuracy Comparison: Among the meter makes, Red stands out as the most reliable, with higher median accuracy. Conversely, Green meters exhibit a lower accuracy rate.\n",
    ">* Green make represents the lowest accuracy and a higher standard deviation, which indicates a more dispersed accuracy.\n",
    ">* Age and Meter Reliability: The Green meter make corresponds to the older meters in the dataset and higher mean."
   ]
  },
  {
   "cell_type": "code",
   "execution_count": 41,
   "id": "78d1aacb-e0eb-4935-aa1b-4ccf532098aa",
   "metadata": {},
   "outputs": [
    {
     "data": {
      "image/png": "[encoded data removed]",
      "text/plain": [
       "<Figure size 1400x600 with 2 Axes>"
      ]
     },
     "metadata": {},
     "output_type": "display_data"
    }
   ],
   "source": [
    "# Histogram and Pie chart of Meters Make in our sample dataset\n",
    "import matplotlib.pyplot as plt\n",
    "import seaborn as sns\n",
    "import colorsys\n",
    "from matplotlib.colors import to_rgba\n",
    "\n",
    "# Create subplots\n",
    "fig, (ax1, ax2) = plt.subplots(nrows=1, ncols=2, figsize=(14, 6))\n",
    "\n",
    "# Plot histogram\n",
    "colors = sns.color_palette(\"deep\", n_colors=3, desat=1)\n",
    "sns.despine(left=True)\n",
    "ax1 = sns.histplot(df['meterMake'], ax=ax1)\n",
    "for i, bar in enumerate(ax1.patches):\n",
    "    bar.set_color(colors[i])\n",
    "for p in ax1.patches:\n",
    "    ax1.annotate(f'{p.get_height()}', (p.get_x() + p.get_width() / 2., p.get_height()),\n",
    "                 ha='center', va='center', xytext=(0, 10), textcoords='offset points')\n",
    "ax1.set(xlabel='meterMake', ylabel='Count')\n",
    "\n",
    "# Plot pie chart\n",
    "divisions = ['BLUE', 'GREEN', 'RED']\n",
    "values = [1201, 124, 248]\n",
    "myexplode = [0, 0, 0]\n",
    "base_colors = ['blue', 'green', 'red']\n",
    "adjusted_colors = [colorsys.rgb_to_hls(*to_rgba(color)[:3]) for color in base_colors]\n",
    "adjusted_colors = [colorsys.hls_to_rgb(h, l, 0.4) for h, l, s in adjusted_colors]\n",
    "# Create a pie chart\n",
    "wedges, texts, autotexts = ax2.pie(values, labels=divisions, autopct='%1.2f%%', radius=0.3, startangle=45,\n",
    "                                   explode=myexplode, shadow=False, textprops={'color': 'white'}, colors=adjusted_colors)\n",
    "# Set aspect ratio to be equal, creating a circle.\n",
    "ax2.axis('equal')\n",
    "# Set the Title\n",
    "ax2.set_title('Meter Makes Proportion', fontsize=12)\n",
    "# Set label color to black\n",
    "for text in texts:\n",
    "    text.set_color('black')\n",
    "\n",
    "plt.subplots_adjust(wspace=0.1)\n",
    "plt.show()"
   ]
  },
  {
   "cell_type": "code",
   "execution_count": 42,
   "id": "8bf55f4d-e168-4528-9b09-a7015f063d8e",
   "metadata": {},
   "outputs": [
    {
     "data": {
      "image/png": "[encoded data removed]",
      "text/plain": [
       "<Figure size 640x480 with 1 Axes>"
      ]
     },
     "metadata": {},
     "output_type": "display_data"
    }
   ],
   "source": [
    "# Boxplot of the Meter Make with Accuracy and Age\n",
    "# df_ = data.loc[:, data.columns != ['meterID','testYear','meterSIzeOriginal','meterSize']]\n",
    "df_ = df.loc[:, ['meterMake','accuracy','age']]\n",
    "data3 = df_.melt(['meterMake'], var_name='dataset', value_name='values')\n",
    "\n",
    "sns.boxplot(data=data3, x='meterMake', y='values', hue='dataset')\n",
    "plt.legend(title='dataset', loc='upper left', bbox_to_anchor=(1, 1))\n",
    "plt.xlabel('meterMake');"
   ]
  },
  {
   "cell_type": "markdown",
   "id": "d4e600db-cf94-47ad-9f66-19bc3ff8b21d",
   "metadata": {},
   "source": [
    "> **Accuracy**\n",
    ">>* The dots outside the whiskers indicate outliers, more prominent for the Blue and Green makes, indicating poor accuracy.<br>\n",
    ">>* Small boxes indicate less variability in the central part of the data, where the data is closely clustered around the median value. This suggests that the accuracy median is a representative measure for accuracy.\n",
    ">>* Small whiskers indicate a narrow range between the minimum and maximum values, suggesting that the values are closely packed together.\n",
    "\n",
    "> **Age**\n",
    ">>* The Blue and Red makes exhibit similar aging, while the Green make features older meters."
   ]
  },
  {
   "cell_type": "code",
   "execution_count": 43,
   "id": "5e60e453-1dcc-49e9-bdaf-7adc14d88a62",
   "metadata": {},
   "outputs": [
    {
     "data": {
      "image/png": "[encoded data removed]",
      "text/plain": [
       "<Figure size 800x400 with 2 Axes>"
      ]
     },
     "metadata": {},
     "output_type": "display_data"
    }
   ],
   "source": [
    "# Scatterplots of Meter Make for Age and Accuracy\n",
    "fig, (ax1,ax2) = plt.subplots(nrows=1, ncols=2, figsize=(8, 4))\n",
    "\n",
    "# 1nd Plot\n",
    "g1 = sns.scatterplot(data=df, x='meterMake', y='age', hue='accuracy', ax=ax1)\n",
    "ax1.set(ylabel='age')\n",
    "g1.legend(loc='upper left',bbox_to_anchor=(1,1), title='accuracy');\n",
    "\n",
    "# 2nd Plot\n",
    "g2 = sns.scatterplot(data=df, x='meterMake', y='accuracy', hue='age', ax=ax2)\n",
    "ax2.set(ylabel='accuracy')\n",
    "g2.legend(loc='upper left',bbox_to_anchor=(1,1), title='Age');\n",
    "\n",
    "# Adjust the space between both plots\n",
    "plt.subplots_adjust(wspace=0.8)\n",
    "plt.show();"
   ]
  },
  {
   "cell_type": "code",
   "execution_count": 44,
   "id": "aac5a9eb-c229-493b-bca8-2edd916b2daf",
   "metadata": {},
   "outputs": [
    {
     "data": {
      "image/png": "[encoded data removed]",
      "text/plain": [
       "<Figure size 800x400 with 2 Axes>"
      ]
     },
     "metadata": {},
     "output_type": "display_data"
    }
   ],
   "source": [
    "# Barplots of Meter Make vs. Median Age and Accuracy values in the sample dataset\n",
    "import matplotlib.pyplot as plt\n",
    "import seaborn as sns\n",
    "\n",
    "# Barplots of Meter Make vs. Age and Accuracy median values in the sample dataset\n",
    "fig, (ax1, ax2) = plt.subplots(nrows=1, ncols=2, figsize=(8, 4))\n",
    "\n",
    "# 1st Plot - Median Age\n",
    "g1 = sns.barplot(x='meterMake', y='age', data=df, estimator=np.median, errwidth=0, edgecolor=\".3\", ax=ax1)\n",
    "# add the annotation\n",
    "for i in ax1.containers:\n",
    "    ax1.bar_label(i, fmt='%.1f', label_type='edge')\n",
    "ax1.set(ylabel='Age')\n",
    "ax1.set(title='Median Age')\n",
    "\n",
    "# 2nd Plot - Median Accuracy\n",
    "g2 = sns.barplot(x='meterMake', y='accuracy', data=df, estimator=np.median, errwidth=0, edgecolor=\".3\", ax=ax2)\n",
    "# add the annotation\n",
    "for i in ax2.containers:\n",
    "    ax2.bar_label(i, fmt='%.1f', label_type='edge')\n",
    "ax2.set(ylabel='Accuracy')\n",
    "ax2.set(title='Median Accuracy')\n",
    "\n",
    "# Adjust the space between both plots\n",
    "plt.subplots_adjust(wspace=0.5)\n",
    "plt.show()"
   ]
  },
  {
   "cell_type": "markdown",
   "id": "9105b93a-2b0f-4d44-aada-430f492612a1",
   "metadata": {
    "tags": []
   },
   "source": [
    "##### **Meter Size vs Accuracy and Age**"
   ]
  },
  {
   "cell_type": "code",
   "execution_count": 45,
   "id": "f7f03fd9-1a31-43ad-8e05-65e682045a27",
   "metadata": {},
   "outputs": [
    {
     "data": {
      "text/html": [
       "<style type=\"text/css\">\n",
       "#T_fc36b_row0_col15, #T_fc36b_row2_col9, #T_fc36b_row2_col15 {\n",
       "  background-color: #90EE90;\n",
       "}\n",
       "#T_fc36b_row2_col0, #T_fc36b_row2_col2, #T_fc36b_row2_col8 {\n",
       "  background-color: #ADD8E6;\n",
       "}\n",
       "#T_fc36b_row2_col3 {\n",
       "  background-color: red;\n",
       "}\n",
       "</style>\n",
       "<table id=\"T_fc36b_\">\n",
       "  <thead>\n",
       "    <tr>\n",
       "      <th class=\"blank level0\" >&nbsp;</th>\n",
       "      <th class=\"col_heading level0 col0\" colspan=\"8\">accuracy</th>\n",
       "      <th class=\"col_heading level0 col8\" colspan=\"8\">age</th>\n",
       "    </tr>\n",
       "    <tr>\n",
       "      <th class=\"blank level1\" >&nbsp;</th>\n",
       "      <th class=\"col_heading level1 col0\" >count</th>\n",
       "      <th class=\"col_heading level1 col1\" >mean</th>\n",
       "      <th class=\"col_heading level1 col2\" >std</th>\n",
       "      <th class=\"col_heading level1 col3\" >min</th>\n",
       "      <th class=\"col_heading level1 col4\" >25%</th>\n",
       "      <th class=\"col_heading level1 col5\" >50%</th>\n",
       "      <th class=\"col_heading level1 col6\" >75%</th>\n",
       "      <th class=\"col_heading level1 col7\" >max</th>\n",
       "      <th class=\"col_heading level1 col8\" >count</th>\n",
       "      <th class=\"col_heading level1 col9\" >mean</th>\n",
       "      <th class=\"col_heading level1 col10\" >std</th>\n",
       "      <th class=\"col_heading level1 col11\" >min</th>\n",
       "      <th class=\"col_heading level1 col12\" >25%</th>\n",
       "      <th class=\"col_heading level1 col13\" >50%</th>\n",
       "      <th class=\"col_heading level1 col14\" >75%</th>\n",
       "      <th class=\"col_heading level1 col15\" >max</th>\n",
       "    </tr>\n",
       "    <tr>\n",
       "      <th class=\"index_name level0\" >meterSize</th>\n",
       "      <th class=\"blank col0\" >&nbsp;</th>\n",
       "      <th class=\"blank col1\" >&nbsp;</th>\n",
       "      <th class=\"blank col2\" >&nbsp;</th>\n",
       "      <th class=\"blank col3\" >&nbsp;</th>\n",
       "      <th class=\"blank col4\" >&nbsp;</th>\n",
       "      <th class=\"blank col5\" >&nbsp;</th>\n",
       "      <th class=\"blank col6\" >&nbsp;</th>\n",
       "      <th class=\"blank col7\" >&nbsp;</th>\n",
       "      <th class=\"blank col8\" >&nbsp;</th>\n",
       "      <th class=\"blank col9\" >&nbsp;</th>\n",
       "      <th class=\"blank col10\" >&nbsp;</th>\n",
       "      <th class=\"blank col11\" >&nbsp;</th>\n",
       "      <th class=\"blank col12\" >&nbsp;</th>\n",
       "      <th class=\"blank col13\" >&nbsp;</th>\n",
       "      <th class=\"blank col14\" >&nbsp;</th>\n",
       "      <th class=\"blank col15\" >&nbsp;</th>\n",
       "    </tr>\n",
       "  </thead>\n",
       "  <tbody>\n",
       "    <tr>\n",
       "      <th id=\"T_fc36b_level0_row0\" class=\"row_heading level0 row0\" >1 Inch</th>\n",
       "      <td id=\"T_fc36b_row0_col0\" class=\"data row0 col0\" >36.00</td>\n",
       "      <td id=\"T_fc36b_row0_col1\" class=\"data row0 col1\" >99.59</td>\n",
       "      <td id=\"T_fc36b_row0_col2\" class=\"data row0 col2\" >1.04</td>\n",
       "      <td id=\"T_fc36b_row0_col3\" class=\"data row0 col3\" >95.09</td>\n",
       "      <td id=\"T_fc36b_row0_col4\" class=\"data row0 col4\" >99.84</td>\n",
       "      <td id=\"T_fc36b_row0_col5\" class=\"data row0 col5\" >100.00</td>\n",
       "      <td id=\"T_fc36b_row0_col6\" class=\"data row0 col6\" >100.00</td>\n",
       "      <td id=\"T_fc36b_row0_col7\" class=\"data row0 col7\" >100.00</td>\n",
       "      <td id=\"T_fc36b_row0_col8\" class=\"data row0 col8\" >36.00</td>\n",
       "      <td id=\"T_fc36b_row0_col9\" class=\"data row0 col9\" >14.83</td>\n",
       "      <td id=\"T_fc36b_row0_col10\" class=\"data row0 col10\" >12.02</td>\n",
       "      <td id=\"T_fc36b_row0_col11\" class=\"data row0 col11\" >1.00</td>\n",
       "      <td id=\"T_fc36b_row0_col12\" class=\"data row0 col12\" >9.00</td>\n",
       "      <td id=\"T_fc36b_row0_col13\" class=\"data row0 col13\" >10.50</td>\n",
       "      <td id=\"T_fc36b_row0_col14\" class=\"data row0 col14\" >16.25</td>\n",
       "      <td id=\"T_fc36b_row0_col15\" class=\"data row0 col15\" >55.00</td>\n",
       "    </tr>\n",
       "    <tr>\n",
       "      <th id=\"T_fc36b_level0_row1\" class=\"row_heading level0 row1\" >3/4 Inch</th>\n",
       "      <td id=\"T_fc36b_row1_col0\" class=\"data row1 col0\" >3.00</td>\n",
       "      <td id=\"T_fc36b_row1_col1\" class=\"data row1 col1\" >99.00</td>\n",
       "      <td id=\"T_fc36b_row1_col2\" class=\"data row1 col2\" >0.08</td>\n",
       "      <td id=\"T_fc36b_row1_col3\" class=\"data row1 col3\" >98.92</td>\n",
       "      <td id=\"T_fc36b_row1_col4\" class=\"data row1 col4\" >98.96</td>\n",
       "      <td id=\"T_fc36b_row1_col5\" class=\"data row1 col5\" >99.01</td>\n",
       "      <td id=\"T_fc36b_row1_col6\" class=\"data row1 col6\" >99.04</td>\n",
       "      <td id=\"T_fc36b_row1_col7\" class=\"data row1 col7\" >99.07</td>\n",
       "      <td id=\"T_fc36b_row1_col8\" class=\"data row1 col8\" >3.00</td>\n",
       "      <td id=\"T_fc36b_row1_col9\" class=\"data row1 col9\" >19.67</td>\n",
       "      <td id=\"T_fc36b_row1_col10\" class=\"data row1 col10\" >4.73</td>\n",
       "      <td id=\"T_fc36b_row1_col11\" class=\"data row1 col11\" >16.00</td>\n",
       "      <td id=\"T_fc36b_row1_col12\" class=\"data row1 col12\" >17.00</td>\n",
       "      <td id=\"T_fc36b_row1_col13\" class=\"data row1 col13\" >18.00</td>\n",
       "      <td id=\"T_fc36b_row1_col14\" class=\"data row1 col14\" >21.50</td>\n",
       "      <td id=\"T_fc36b_row1_col15\" class=\"data row1 col15\" >25.00</td>\n",
       "    </tr>\n",
       "    <tr>\n",
       "      <th id=\"T_fc36b_level0_row2\" class=\"row_heading level0 row2\" >5/8 Inch</th>\n",
       "      <td id=\"T_fc36b_row2_col0\" class=\"data row2 col0\" >1907.00</td>\n",
       "      <td id=\"T_fc36b_row2_col1\" class=\"data row2 col1\" >96.82</td>\n",
       "      <td id=\"T_fc36b_row2_col2\" class=\"data row2 col2\" >8.72</td>\n",
       "      <td id=\"T_fc36b_row2_col3\" class=\"data row2 col3\" >1.13</td>\n",
       "      <td id=\"T_fc36b_row2_col4\" class=\"data row2 col4\" >98.01</td>\n",
       "      <td id=\"T_fc36b_row2_col5\" class=\"data row2 col5\" >99.06</td>\n",
       "      <td id=\"T_fc36b_row2_col6\" class=\"data row2 col6\" >99.81</td>\n",
       "      <td id=\"T_fc36b_row2_col7\" class=\"data row2 col7\" >100.00</td>\n",
       "      <td id=\"T_fc36b_row2_col8\" class=\"data row2 col8\" >1907.00</td>\n",
       "      <td id=\"T_fc36b_row2_col9\" class=\"data row2 col9\" >22.92</td>\n",
       "      <td id=\"T_fc36b_row2_col10\" class=\"data row2 col10\" >14.21</td>\n",
       "      <td id=\"T_fc36b_row2_col11\" class=\"data row2 col11\" >0.00</td>\n",
       "      <td id=\"T_fc36b_row2_col12\" class=\"data row2 col12\" >14.00</td>\n",
       "      <td id=\"T_fc36b_row2_col13\" class=\"data row2 col13\" >20.00</td>\n",
       "      <td id=\"T_fc36b_row2_col14\" class=\"data row2 col14\" >27.00</td>\n",
       "      <td id=\"T_fc36b_row2_col15\" class=\"data row2 col15\" >78.00</td>\n",
       "    </tr>\n",
       "  </tbody>\n",
       "</table>\n"
      ],
      "text/plain": [
       "<pandas.io.formats.style.Styler at 0x2592942c6c8>"
      ]
     },
     "execution_count": 45,
     "metadata": {},
     "output_type": "execute_result"
    }
   ],
   "source": [
    "# Summary Statistics of Meter Size vs Accuracy and Age\n",
    "list1 = ['accuracy','age']\n",
    "df_size = df.groupby('meterSize')[list1].describe().round(2)\n",
    "\n",
    "# Define a function for conditional formatting\n",
    "def highlight_condition(value):\n",
    "    if value == df_size.iloc[2:3,0:1].values:\n",
    "        return 'background-color: #ADD8E6' # Light Blue\n",
    "    if value == df_size.iloc[2:3,2:3].values:\n",
    "        return 'background-color: #ADD8E6' # Light Blue\n",
    "    if value == df_size.iloc[2:3,3:4].values:\n",
    "        return 'background-color: red'\n",
    "    if value == df_size.iloc[2:3,15:16].values:\n",
    "        return 'background-color: #90EE90' # Light Green\n",
    "    if value == df_size.iloc[2:3,9:10].values:\n",
    "        return 'background-color: #90EE90' # Light Green\n",
    "    if value == df_size.iloc[0:1,15:16].values:\n",
    "        return 'background-color: #90EE90' # Light Green\n",
    "    \n",
    "    else:\n",
    "        return ''\n",
    "\n",
    "# Apply the conditional formatting to the DataFrame\n",
    "styled_df_size = df_size.style.applymap(highlight_condition)\n",
    "\n",
    "# Round the values in the DataFrame after applying styling\n",
    "rounded_styled_df_size = styled_df_size.format('{:.2f}')\n",
    "\n",
    "# Display the styled and rounded DataFrame\n",
    "rounded_styled_df_size"
   ]
  },
  {
   "cell_type": "markdown",
   "id": "535e9347-2758-4c60-a1cf-f31b4fd1a8b9",
   "metadata": {},
   "source": [
    "**Accuracy**\n",
    ">* The most installed meter size in the sample dataset is the 5/8 inches variant\n",
    ">* The 5/8 inches meter size has the highest standard deviation. This suggests a wider dispersion of values around the mean, indicating greater variability.\n",
    ">* The 5/8 inches size shows the highest range, highlighting a significant level of variation and potential losses.\n",
    "\n",
    "**Age**\n",
    ">* The 5/8 inch meters show that they are, on average, older compared to the other two sizes.\n",
    ">* The range of ages for each meter size is as follows:<br>\n",
    ">>1 inch: range = 50 years<br>\n",
    "3/4 inch: range = 9 years<br>\n",
    "5/8 inch: range = 78 years"
   ]
  },
  {
   "cell_type": "code",
   "execution_count": 46,
   "id": "8567d666-f936-4aa0-b6eb-f3ca45d0d9d1",
   "metadata": {},
   "outputs": [
    {
     "data": {
      "image/png": "[encoded data removed]",
      "text/plain": [
       "<Figure size 500x400 with 1 Axes>"
      ]
     },
     "metadata": {},
     "output_type": "display_data"
    }
   ],
   "source": [
    "# Histogram of Meter Size in our sample dataset\n",
    "\n",
    "# Define a color palette with lower saturation\n",
    "colors = sns.color_palette(\"deep\", n_colors=3, desat=1)\n",
    "\n",
    "# Create a histogram\n",
    "fig, ax1 = plt.subplots(figsize=(5, 4))\n",
    "sns.despine(left=True)\n",
    "\n",
    "# Plot the histogram\n",
    "ax1 = sns.histplot(df['meterSize'], ax=ax1)\n",
    "\n",
    "# Assign colors to the bars\n",
    "for i, bar in enumerate(ax1.patches):\n",
    "    bar.set_color(colors[i])\n",
    "\n",
    "# Add labels to the bars\n",
    "for p in ax1.patches:\n",
    "    ax1.annotate(f'{p.get_height()}', (p.get_x() + p.get_width() / 2., p.get_height()),\n",
    "                 ha='center', va='center', xytext=(0, 10), textcoords='offset points')\n",
    "\n",
    "ax1.set(xlabel='meterSize', ylabel='Count')\n",
    "plt.show();"
   ]
  },
  {
   "cell_type": "code",
   "execution_count": 47,
   "id": "4e873380-ee89-478a-a96b-a17f6f06f710",
   "metadata": {},
   "outputs": [
    {
     "data": {
      "image/png": "[encoded data removed]",
      "text/plain": [
       "<Figure size 800x400 with 2 Axes>"
      ]
     },
     "metadata": {},
     "output_type": "display_data"
    }
   ],
   "source": [
    "# Barplots of Meter Size for average Age and median Accuracy\n",
    "fig, (ax1,ax2) = plt.subplots(nrows=1, ncols=2, figsize=(8, 4))\n",
    "\n",
    "# 1nd Plot\n",
    "g1 = sns.barplot(x='meterSize', y='age', data=df, errwidth=0, edgecolor=\".3\", ax=ax1)\n",
    "# add the annotation\n",
    "for i in ax1.containers:\n",
    "    ax1.bar_label(i,fmt='%.1f', label_type='edge')\n",
    "ax1.set(ylabel='age')\n",
    "ax1.set(title='Average Age');\n",
    "\n",
    "# 2nd Plot\n",
    "g2 = sns.barplot(x='meterSize', y='accuracy', data=df, estimator=np.median, errwidth=0, edgecolor=\".3\", ax=ax2)\n",
    "# add the annotation\n",
    "for i in ax2.containers:\n",
    "    ax2.bar_label(i,fmt='%.1f', label_type='edge')\n",
    "ax2.set(ylabel='accuracy')\n",
    "ax2.set(title='Median Accuracy')\n",
    "\n",
    "plt.subplots_adjust(wspace=0.5)   # Adjust the space between both plots\n",
    "plt.show();"
   ]
  },
  {
   "cell_type": "code",
   "execution_count": 48,
   "id": "59eef003-9816-471f-bbc3-a44ed1876437",
   "metadata": {},
   "outputs": [
    {
     "data": {
      "image/png": "[encoded data removed]",
      "text/plain": [
       "<Figure size 800x400 with 2 Axes>"
      ]
     },
     "metadata": {},
     "output_type": "display_data"
    }
   ],
   "source": [
    "# Scatterplots of Meter Size vs. Age and Accuracy\n",
    "fig, (ax1,ax2) = plt.subplots(nrows=1, ncols=2, figsize=(8, 4))\n",
    "\n",
    "# 1nd Plot\n",
    "g1 = sns.scatterplot(data=df, x='meterSize', y='age', hue='meterMake', ax=ax1)\n",
    "ax1.set(ylabel='age')\n",
    "g1.legend(loc='upper left',bbox_to_anchor=(1,1), title='accuracy');\n",
    "\n",
    "# 2nd Plot\n",
    "g2 = sns.scatterplot(data=df, x='meterSize', y='accuracy', hue='age', ax=ax2)\n",
    "ax2.set(ylabel='accuracy')\n",
    "g2.legend(loc='upper left',bbox_to_anchor=(1,1), title='age');\n",
    "\n",
    "plt.subplots_adjust(wspace=0.8)   # Adjust the space between both plots\n",
    "plt.show();"
   ]
  },
  {
   "cell_type": "markdown",
   "id": "2dfbb7a4-8ac0-411d-a4d4-8a1f9f1986a4",
   "metadata": {},
   "source": [
    "##### **Meter Makes and Size vs Accuracy and Age**"
   ]
  },
  {
   "cell_type": "code",
   "execution_count": 49,
   "id": "670c50f9-ce1a-425d-9884-a6de995fc155",
   "metadata": {},
   "outputs": [
    {
     "data": {
      "text/html": [
       "<style type=\"text/css\">\n",
       "#T_750e0_row0_col0, #T_750e0_row0_col8, #T_750e0_row1_col0, #T_750e0_row1_col8, #T_750e0_row3_col0, #T_750e0_row3_col8, #T_750e0_row5_col11, #T_750e0_row6_col0, #T_750e0_row6_col8 {\n",
       "  background-color: #ADD8E6;\n",
       "}\n",
       "#T_750e0_row2_col3, #T_750e0_row7_col3 {\n",
       "  background-color: yellow;\n",
       "}\n",
       "#T_750e0_row3_col9, #T_750e0_row3_col11, #T_750e0_row3_col12, #T_750e0_row3_col13, #T_750e0_row3_col14, #T_750e0_row3_col15, #T_750e0_row4_col11, #T_750e0_row4_col15, #T_750e0_row7_col15 {\n",
       "  background-color: #90EE90;\n",
       "}\n",
       "#T_750e0_row4_col3, #T_750e0_row4_col5 {\n",
       "  background-color: red;\n",
       "}\n",
       "</style>\n",
       "<table id=\"T_750e0_\">\n",
       "  <thead>\n",
       "    <tr>\n",
       "      <th class=\"blank\" >&nbsp;</th>\n",
       "      <th class=\"blank level0\" >&nbsp;</th>\n",
       "      <th class=\"col_heading level0 col0\" colspan=\"8\">accuracy</th>\n",
       "      <th class=\"col_heading level0 col8\" colspan=\"8\">age</th>\n",
       "    </tr>\n",
       "    <tr>\n",
       "      <th class=\"blank\" >&nbsp;</th>\n",
       "      <th class=\"blank level1\" >&nbsp;</th>\n",
       "      <th class=\"col_heading level1 col0\" >count</th>\n",
       "      <th class=\"col_heading level1 col1\" >mean</th>\n",
       "      <th class=\"col_heading level1 col2\" >std</th>\n",
       "      <th class=\"col_heading level1 col3\" >min</th>\n",
       "      <th class=\"col_heading level1 col4\" >25%</th>\n",
       "      <th class=\"col_heading level1 col5\" >50%</th>\n",
       "      <th class=\"col_heading level1 col6\" >75%</th>\n",
       "      <th class=\"col_heading level1 col7\" >max</th>\n",
       "      <th class=\"col_heading level1 col8\" >count</th>\n",
       "      <th class=\"col_heading level1 col9\" >mean</th>\n",
       "      <th class=\"col_heading level1 col10\" >std</th>\n",
       "      <th class=\"col_heading level1 col11\" >min</th>\n",
       "      <th class=\"col_heading level1 col12\" >25%</th>\n",
       "      <th class=\"col_heading level1 col13\" >50%</th>\n",
       "      <th class=\"col_heading level1 col14\" >75%</th>\n",
       "      <th class=\"col_heading level1 col15\" >max</th>\n",
       "    </tr>\n",
       "    <tr>\n",
       "      <th class=\"index_name level0\" >meterMake</th>\n",
       "      <th class=\"index_name level1\" >meterSize</th>\n",
       "      <th class=\"blank col0\" >&nbsp;</th>\n",
       "      <th class=\"blank col1\" >&nbsp;</th>\n",
       "      <th class=\"blank col2\" >&nbsp;</th>\n",
       "      <th class=\"blank col3\" >&nbsp;</th>\n",
       "      <th class=\"blank col4\" >&nbsp;</th>\n",
       "      <th class=\"blank col5\" >&nbsp;</th>\n",
       "      <th class=\"blank col6\" >&nbsp;</th>\n",
       "      <th class=\"blank col7\" >&nbsp;</th>\n",
       "      <th class=\"blank col8\" >&nbsp;</th>\n",
       "      <th class=\"blank col9\" >&nbsp;</th>\n",
       "      <th class=\"blank col10\" >&nbsp;</th>\n",
       "      <th class=\"blank col11\" >&nbsp;</th>\n",
       "      <th class=\"blank col12\" >&nbsp;</th>\n",
       "      <th class=\"blank col13\" >&nbsp;</th>\n",
       "      <th class=\"blank col14\" >&nbsp;</th>\n",
       "      <th class=\"blank col15\" >&nbsp;</th>\n",
       "    </tr>\n",
       "  </thead>\n",
       "  <tbody>\n",
       "    <tr>\n",
       "      <th id=\"T_750e0_level0_row0\" class=\"row_heading level0 row0\" rowspan=\"3\">BLUE</th>\n",
       "      <th id=\"T_750e0_level1_row0\" class=\"row_heading level1 row0\" >1 Inch</th>\n",
       "      <td id=\"T_750e0_row0_col0\" class=\"data row0 col0\" >7.00</td>\n",
       "      <td id=\"T_750e0_row0_col1\" class=\"data row0 col1\" >99.51</td>\n",
       "      <td id=\"T_750e0_row0_col2\" class=\"data row0 col2\" >1.29</td>\n",
       "      <td id=\"T_750e0_row0_col3\" class=\"data row0 col3\" >96.59</td>\n",
       "      <td id=\"T_750e0_row0_col4\" class=\"data row0 col4\" >100.00</td>\n",
       "      <td id=\"T_750e0_row0_col5\" class=\"data row0 col5\" >100.00</td>\n",
       "      <td id=\"T_750e0_row0_col6\" class=\"data row0 col6\" >100.00</td>\n",
       "      <td id=\"T_750e0_row0_col7\" class=\"data row0 col7\" >100.00</td>\n",
       "      <td id=\"T_750e0_row0_col8\" class=\"data row0 col8\" >7.00</td>\n",
       "      <td id=\"T_750e0_row0_col9\" class=\"data row0 col9\" >23.00</td>\n",
       "      <td id=\"T_750e0_row0_col10\" class=\"data row0 col10\" >13.87</td>\n",
       "      <td id=\"T_750e0_row0_col11\" class=\"data row0 col11\" >8.00</td>\n",
       "      <td id=\"T_750e0_row0_col12\" class=\"data row0 col12\" >14.00</td>\n",
       "      <td id=\"T_750e0_row0_col13\" class=\"data row0 col13\" >22.00</td>\n",
       "      <td id=\"T_750e0_row0_col14\" class=\"data row0 col14\" >27.00</td>\n",
       "      <td id=\"T_750e0_row0_col15\" class=\"data row0 col15\" >49.00</td>\n",
       "    </tr>\n",
       "    <tr>\n",
       "      <th id=\"T_750e0_level1_row1\" class=\"row_heading level1 row1\" >3/4 Inch</th>\n",
       "      <td id=\"T_750e0_row1_col0\" class=\"data row1 col0\" >1.00</td>\n",
       "      <td id=\"T_750e0_row1_col1\" class=\"data row1 col1\" >99.01</td>\n",
       "      <td id=\"T_750e0_row1_col2\" class=\"data row1 col2\" >nan</td>\n",
       "      <td id=\"T_750e0_row1_col3\" class=\"data row1 col3\" >99.01</td>\n",
       "      <td id=\"T_750e0_row1_col4\" class=\"data row1 col4\" >99.01</td>\n",
       "      <td id=\"T_750e0_row1_col5\" class=\"data row1 col5\" >99.01</td>\n",
       "      <td id=\"T_750e0_row1_col6\" class=\"data row1 col6\" >99.01</td>\n",
       "      <td id=\"T_750e0_row1_col7\" class=\"data row1 col7\" >99.01</td>\n",
       "      <td id=\"T_750e0_row1_col8\" class=\"data row1 col8\" >1.00</td>\n",
       "      <td id=\"T_750e0_row1_col9\" class=\"data row1 col9\" >25.00</td>\n",
       "      <td id=\"T_750e0_row1_col10\" class=\"data row1 col10\" >nan</td>\n",
       "      <td id=\"T_750e0_row1_col11\" class=\"data row1 col11\" >25.00</td>\n",
       "      <td id=\"T_750e0_row1_col12\" class=\"data row1 col12\" >25.00</td>\n",
       "      <td id=\"T_750e0_row1_col13\" class=\"data row1 col13\" >25.00</td>\n",
       "      <td id=\"T_750e0_row1_col14\" class=\"data row1 col14\" >25.00</td>\n",
       "      <td id=\"T_750e0_row1_col15\" class=\"data row1 col15\" >25.00</td>\n",
       "    </tr>\n",
       "    <tr>\n",
       "      <th id=\"T_750e0_level1_row2\" class=\"row_heading level1 row2\" >5/8 Inch</th>\n",
       "      <td id=\"T_750e0_row2_col0\" class=\"data row2 col0\" >1358.00</td>\n",
       "      <td id=\"T_750e0_row2_col1\" class=\"data row2 col1\" >96.81</td>\n",
       "      <td id=\"T_750e0_row2_col2\" class=\"data row2 col2\" >7.71</td>\n",
       "      <td id=\"T_750e0_row2_col3\" class=\"data row2 col3\" >14.74</td>\n",
       "      <td id=\"T_750e0_row2_col4\" class=\"data row2 col4\" >97.86</td>\n",
       "      <td id=\"T_750e0_row2_col5\" class=\"data row2 col5\" >98.92</td>\n",
       "      <td id=\"T_750e0_row2_col6\" class=\"data row2 col6\" >99.56</td>\n",
       "      <td id=\"T_750e0_row2_col7\" class=\"data row2 col7\" >100.00</td>\n",
       "      <td id=\"T_750e0_row2_col8\" class=\"data row2 col8\" >1358.00</td>\n",
       "      <td id=\"T_750e0_row2_col9\" class=\"data row2 col9\" >20.08</td>\n",
       "      <td id=\"T_750e0_row2_col10\" class=\"data row2 col10\" >8.43</td>\n",
       "      <td id=\"T_750e0_row2_col11\" class=\"data row2 col11\" >6.00</td>\n",
       "      <td id=\"T_750e0_row2_col12\" class=\"data row2 col12\" >13.00</td>\n",
       "      <td id=\"T_750e0_row2_col13\" class=\"data row2 col13\" >20.00</td>\n",
       "      <td id=\"T_750e0_row2_col14\" class=\"data row2 col14\" >25.00</td>\n",
       "      <td id=\"T_750e0_row2_col15\" class=\"data row2 col15\" >58.00</td>\n",
       "    </tr>\n",
       "    <tr>\n",
       "      <th id=\"T_750e0_level0_row3\" class=\"row_heading level0 row3\" rowspan=\"2\">GREEN</th>\n",
       "      <th id=\"T_750e0_level1_row3\" class=\"row_heading level1 row3\" >1 Inch</th>\n",
       "      <td id=\"T_750e0_row3_col0\" class=\"data row3 col0\" >1.00</td>\n",
       "      <td id=\"T_750e0_row3_col1\" class=\"data row3 col1\" >99.35</td>\n",
       "      <td id=\"T_750e0_row3_col2\" class=\"data row3 col2\" >nan</td>\n",
       "      <td id=\"T_750e0_row3_col3\" class=\"data row3 col3\" >99.35</td>\n",
       "      <td id=\"T_750e0_row3_col4\" class=\"data row3 col4\" >99.35</td>\n",
       "      <td id=\"T_750e0_row3_col5\" class=\"data row3 col5\" >99.35</td>\n",
       "      <td id=\"T_750e0_row3_col6\" class=\"data row3 col6\" >99.35</td>\n",
       "      <td id=\"T_750e0_row3_col7\" class=\"data row3 col7\" >99.35</td>\n",
       "      <td id=\"T_750e0_row3_col8\" class=\"data row3 col8\" >1.00</td>\n",
       "      <td id=\"T_750e0_row3_col9\" class=\"data row3 col9\" >55.00</td>\n",
       "      <td id=\"T_750e0_row3_col10\" class=\"data row3 col10\" >nan</td>\n",
       "      <td id=\"T_750e0_row3_col11\" class=\"data row3 col11\" >55.00</td>\n",
       "      <td id=\"T_750e0_row3_col12\" class=\"data row3 col12\" >55.00</td>\n",
       "      <td id=\"T_750e0_row3_col13\" class=\"data row3 col13\" >55.00</td>\n",
       "      <td id=\"T_750e0_row3_col14\" class=\"data row3 col14\" >55.00</td>\n",
       "      <td id=\"T_750e0_row3_col15\" class=\"data row3 col15\" >55.00</td>\n",
       "    </tr>\n",
       "    <tr>\n",
       "      <th id=\"T_750e0_level1_row4\" class=\"row_heading level1 row4\" >5/8 Inch</th>\n",
       "      <td id=\"T_750e0_row4_col0\" class=\"data row4 col0\" >133.00</td>\n",
       "      <td id=\"T_750e0_row4_col1\" class=\"data row4 col1\" >89.09</td>\n",
       "      <td id=\"T_750e0_row4_col2\" class=\"data row4 col2\" >19.07</td>\n",
       "      <td id=\"T_750e0_row4_col3\" class=\"data row4 col3\" >1.13</td>\n",
       "      <td id=\"T_750e0_row4_col4\" class=\"data row4 col4\" >87.18</td>\n",
       "      <td id=\"T_750e0_row4_col5\" class=\"data row4 col5\" >95.47</td>\n",
       "      <td id=\"T_750e0_row4_col6\" class=\"data row4 col6\" >98.26</td>\n",
       "      <td id=\"T_750e0_row4_col7\" class=\"data row4 col7\" >100.00</td>\n",
       "      <td id=\"T_750e0_row4_col8\" class=\"data row4 col8\" >133.00</td>\n",
       "      <td id=\"T_750e0_row4_col9\" class=\"data row4 col9\" >65.01</td>\n",
       "      <td id=\"T_750e0_row4_col10\" class=\"data row4 col10\" >3.92</td>\n",
       "      <td id=\"T_750e0_row4_col11\" class=\"data row4 col11\" >40.00</td>\n",
       "      <td id=\"T_750e0_row4_col12\" class=\"data row4 col12\" >63.00</td>\n",
       "      <td id=\"T_750e0_row4_col13\" class=\"data row4 col13\" >65.00</td>\n",
       "      <td id=\"T_750e0_row4_col14\" class=\"data row4 col14\" >68.00</td>\n",
       "      <td id=\"T_750e0_row4_col15\" class=\"data row4 col15\" >78.00</td>\n",
       "    </tr>\n",
       "    <tr>\n",
       "      <th id=\"T_750e0_level0_row5\" class=\"row_heading level0 row5\" rowspan=\"3\">RED</th>\n",
       "      <th id=\"T_750e0_level1_row5\" class=\"row_heading level1 row5\" >1 Inch</th>\n",
       "      <td id=\"T_750e0_row5_col0\" class=\"data row5 col0\" >28.00</td>\n",
       "      <td id=\"T_750e0_row5_col1\" class=\"data row5 col1\" >99.62</td>\n",
       "      <td id=\"T_750e0_row5_col2\" class=\"data row5 col2\" >1.02</td>\n",
       "      <td id=\"T_750e0_row5_col3\" class=\"data row5 col3\" >95.09</td>\n",
       "      <td id=\"T_750e0_row5_col4\" class=\"data row5 col4\" >99.84</td>\n",
       "      <td id=\"T_750e0_row5_col5\" class=\"data row5 col5\" >100.00</td>\n",
       "      <td id=\"T_750e0_row5_col6\" class=\"data row5 col6\" >100.00</td>\n",
       "      <td id=\"T_750e0_row5_col7\" class=\"data row5 col7\" >100.00</td>\n",
       "      <td id=\"T_750e0_row5_col8\" class=\"data row5 col8\" >28.00</td>\n",
       "      <td id=\"T_750e0_row5_col9\" class=\"data row5 col9\" >11.36</td>\n",
       "      <td id=\"T_750e0_row5_col10\" class=\"data row5 col10\" >7.42</td>\n",
       "      <td id=\"T_750e0_row5_col11\" class=\"data row5 col11\" >1.00</td>\n",
       "      <td id=\"T_750e0_row5_col12\" class=\"data row5 col12\" >9.00</td>\n",
       "      <td id=\"T_750e0_row5_col13\" class=\"data row5 col13\" >9.50</td>\n",
       "      <td id=\"T_750e0_row5_col14\" class=\"data row5 col14\" >13.25</td>\n",
       "      <td id=\"T_750e0_row5_col15\" class=\"data row5 col15\" >39.00</td>\n",
       "    </tr>\n",
       "    <tr>\n",
       "      <th id=\"T_750e0_level1_row6\" class=\"row_heading level1 row6\" >3/4 Inch</th>\n",
       "      <td id=\"T_750e0_row6_col0\" class=\"data row6 col0\" >2.00</td>\n",
       "      <td id=\"T_750e0_row6_col1\" class=\"data row6 col1\" >99.00</td>\n",
       "      <td id=\"T_750e0_row6_col2\" class=\"data row6 col2\" >0.11</td>\n",
       "      <td id=\"T_750e0_row6_col3\" class=\"data row6 col3\" >98.92</td>\n",
       "      <td id=\"T_750e0_row6_col4\" class=\"data row6 col4\" >98.96</td>\n",
       "      <td id=\"T_750e0_row6_col5\" class=\"data row6 col5\" >99.00</td>\n",
       "      <td id=\"T_750e0_row6_col6\" class=\"data row6 col6\" >99.03</td>\n",
       "      <td id=\"T_750e0_row6_col7\" class=\"data row6 col7\" >99.07</td>\n",
       "      <td id=\"T_750e0_row6_col8\" class=\"data row6 col8\" >2.00</td>\n",
       "      <td id=\"T_750e0_row6_col9\" class=\"data row6 col9\" >17.00</td>\n",
       "      <td id=\"T_750e0_row6_col10\" class=\"data row6 col10\" >1.41</td>\n",
       "      <td id=\"T_750e0_row6_col11\" class=\"data row6 col11\" >16.00</td>\n",
       "      <td id=\"T_750e0_row6_col12\" class=\"data row6 col12\" >16.50</td>\n",
       "      <td id=\"T_750e0_row6_col13\" class=\"data row6 col13\" >17.00</td>\n",
       "      <td id=\"T_750e0_row6_col14\" class=\"data row6 col14\" >17.50</td>\n",
       "      <td id=\"T_750e0_row6_col15\" class=\"data row6 col15\" >18.00</td>\n",
       "    </tr>\n",
       "    <tr>\n",
       "      <th id=\"T_750e0_level1_row7\" class=\"row_heading level1 row7\" >5/8 Inch</th>\n",
       "      <td id=\"T_750e0_row7_col0\" class=\"data row7 col0\" >416.00</td>\n",
       "      <td id=\"T_750e0_row7_col1\" class=\"data row7 col1\" >99.30</td>\n",
       "      <td id=\"T_750e0_row7_col2\" class=\"data row7 col2\" >3.75</td>\n",
       "      <td id=\"T_750e0_row7_col3\" class=\"data row7 col3\" >26.40</td>\n",
       "      <td id=\"T_750e0_row7_col4\" class=\"data row7 col4\" >99.27</td>\n",
       "      <td id=\"T_750e0_row7_col5\" class=\"data row7 col5\" >99.90</td>\n",
       "      <td id=\"T_750e0_row7_col6\" class=\"data row7 col6\" >100.00</td>\n",
       "      <td id=\"T_750e0_row7_col7\" class=\"data row7 col7\" >100.00</td>\n",
       "      <td id=\"T_750e0_row7_col8\" class=\"data row7 col8\" >416.00</td>\n",
       "      <td id=\"T_750e0_row7_col9\" class=\"data row7 col9\" >18.73</td>\n",
       "      <td id=\"T_750e0_row7_col10\" class=\"data row7 col10\" >8.86</td>\n",
       "      <td id=\"T_750e0_row7_col11\" class=\"data row7 col11\" >0.00</td>\n",
       "      <td id=\"T_750e0_row7_col12\" class=\"data row7 col12\" >16.00</td>\n",
       "      <td id=\"T_750e0_row7_col13\" class=\"data row7 col13\" >18.00</td>\n",
       "      <td id=\"T_750e0_row7_col14\" class=\"data row7 col14\" >25.00</td>\n",
       "      <td id=\"T_750e0_row7_col15\" class=\"data row7 col15\" >69.00</td>\n",
       "    </tr>\n",
       "  </tbody>\n",
       "</table>\n"
      ],
      "text/plain": [
       "<pandas.io.formats.style.Styler at 0x25929a333c8>"
      ]
     },
     "execution_count": 49,
     "metadata": {},
     "output_type": "execute_result"
    }
   ],
   "source": [
    "# Summary Statistics of Meter Make and Size vs Accuracy and Age\n",
    "list1 = ['accuracy','age']\n",
    "df1 = df.groupby(['meterMake','meterSize'])[list1].describe().round(2)\n",
    "\n",
    "# Define a function for conditional formatting\n",
    "def highlight_condition(value):\n",
    "    if value == df1.iloc[4:5,3:4].values:\n",
    "        return 'background-color: red'\n",
    "    if value == df1.iloc[2:3,3:4].values:\n",
    "        return 'background-color: yellow'\n",
    "    if value == df1.iloc[7:8,3:4].values:\n",
    "        return 'background-color: yellow'\n",
    "    if value == df1.iloc[0:1,0:1]['accuracy'].values:\n",
    "        return 'background-color: #ADD8E6'  # Light Blue\n",
    "    if value == df1.iloc[1:2,0:1].values:\n",
    "        return 'background-color: #ADD8E6'  # Light Blue\n",
    "    if value == df1.iloc[4:5,15:16].values:\n",
    "        return 'background-color: #90EE90'  # Light Green\n",
    "    if value == df1.iloc[7:8,15:16].values:\n",
    "        return 'background-color: #90EE90'  # Light Green\n",
    "    if value == df1.iloc[3:4,11:12].values:\n",
    "        return 'background-color: #90EE90'  # Light Green\n",
    "    if value == df1.iloc[4:5,11:12].values:\n",
    "        return 'background-color: #90EE90'  # Light Green\n",
    "    if value == df1.iloc[4:5,5:6].values:\n",
    "        return 'background-color: red'\n",
    "    if value == df1.iloc[6:7,0:1]['accuracy'].values:\n",
    "        return 'background-color: #ADD8E6'  # Light Blue\n",
    "    \n",
    "    else:\n",
    "        return ''\n",
    "\n",
    "# Apply the conditional formatting to the DataFrame\n",
    "styled_df1 = df1.style.applymap(highlight_condition)\n",
    "\n",
    "# Round the values in the DataFrame after applying styling\n",
    "rounded_styled_df1 = styled_df1.format('{:.2f}')\n",
    "\n",
    "# Display the styled and rounded DataFrame\n",
    "rounded_styled_df1"
   ]
  },
  {
   "cell_type": "code",
   "execution_count": 52,
   "id": "ddfb852b-e419-4b02-b394-24541f9cd3b9",
   "metadata": {},
   "outputs": [
    {
     "data": {
      "image/png": "[encoded data removed]",
      "text/plain": [
       "<Figure size 1100x400 with 2 Axes>"
      ]
     },
     "metadata": {},
     "output_type": "display_data"
    }
   ],
   "source": [
    "# Barplots of Meter Make and Size vs. Average Age and Median Accuracy\n",
    "import warnings\n",
    "warnings.filterwarnings('ignore')\n",
    "\n",
    "fig, (ax1,ax2) = plt.subplots(nrows=1, ncols=2, figsize=(11, 4))\n",
    "\n",
    "# 1nd Plot\n",
    "g1 = sns.barplot(x='meterMake', y='age', data=df, hue='meterSize', errwidth=0, edgecolor=\".3\", ax=ax1)\n",
    "# add the annotation\n",
    "for i in ax1.containers:\n",
    "    ax1.bar_label(i,fmt='%.1f', label_type='edge')\n",
    "ax1.set(ylabel='age')\n",
    "ax1.set(title='Average Age');\n",
    "\n",
    "# 2nd Plot\n",
    "g2 = sns.barplot(x='meterMake', y='accuracy', data=df, hue='meterSize', estimator=np.median, errwidth=0, edgecolor=\".3\", ax=ax2)\n",
    "# add the annotation\n",
    "for i in ax2.containers:\n",
    "    ax2.bar_label(i,fmt='%.1f', label_type='edge')\n",
    "ax2.set(ylabel='accuracy')\n",
    "ax2.set(title='Median Accuracy');\n",
    "\n",
    "# Adjust the space between both plots\n",
    "plt.subplots_adjust(wspace=0.2)\n",
    "plt.show();"
   ]
  },
  {
   "cell_type": "markdown",
   "id": "0691dcc4-abd9-4d76-81fc-1c787d78f706",
   "metadata": {},
   "source": [
    ">* The green make shows the older meters for the 1-inch and 5/8-inch sizes.\n",
    ">* Excluding outliers, the accuracy for all meters falls within the range of their tolerance, except for the Green make with a 5/8-inch meter, which is lower. This lower accuracy could be attributed to the fact that the Green make comprises older meters in our sample data."
   ]
  },
  {
   "cell_type": "markdown",
   "id": "740a4cf5-fb41-49ac-a8a1-b46c1ccb56c2",
   "metadata": {
    "tags": []
   },
   "source": [
    "#### **Final Analysis**"
   ]
  },
  {
   "cell_type": "markdown",
   "id": "f0c9ff71-75b3-4c52-9c94-16bf7a639fd2",
   "metadata": {},
   "source": [
    "* What is the estimated volume and value of water lost to small meter inaccuracy in 2019?\n",
    "* What might you recommend for SWU to maintain their customer meter going forward based on the data provided? Consider meter replacement decisions."
   ]
  },
  {
   "cell_type": "code",
   "execution_count": 53,
   "id": "54eda211-d155-443d-b915-842482858b69",
   "metadata": {},
   "outputs": [
    {
     "data": {
      "text/html": [
       "<div>\n",
       "<style scoped>\n",
       "    .dataframe tbody tr th:only-of-type {\n",
       "        vertical-align: middle;\n",
       "    }\n",
       "\n",
       "    .dataframe tbody tr th {\n",
       "        vertical-align: top;\n",
       "    }\n",
       "\n",
       "    .dataframe thead th {\n",
       "        text-align: right;\n",
       "    }\n",
       "</style>\n",
       "<table border=\"1\" class=\"dataframe\">\n",
       "  <thead>\n",
       "    <tr style=\"text-align: right;\">\n",
       "      <th></th>\n",
       "      <th>Meter Make</th>\n",
       "      <th>Total 2019 Recorded Usage (CCF)</th>\n",
       "      <th>Count of Meters Currently in Service</th>\n",
       "    </tr>\n",
       "  </thead>\n",
       "  <tbody>\n",
       "    <tr>\n",
       "      <th>0</th>\n",
       "      <td>RED</td>\n",
       "      <td>28576886</td>\n",
       "      <td>172745</td>\n",
       "    </tr>\n",
       "    <tr>\n",
       "      <th>1</th>\n",
       "      <td>BLUE</td>\n",
       "      <td>23316556</td>\n",
       "      <td>166182</td>\n",
       "    </tr>\n",
       "    <tr>\n",
       "      <th>2</th>\n",
       "      <td>GREEN</td>\n",
       "      <td>2094991</td>\n",
       "      <td>13897</td>\n",
       "    </tr>\n",
       "  </tbody>\n",
       "</table>\n",
       "</div>"
      ],
      "text/plain": [
       "  Meter Make  Total 2019 Recorded Usage (CCF)  \\\n",
       "0        RED                         28576886   \n",
       "1       BLUE                         23316556   \n",
       "2      GREEN                          2094991   \n",
       "\n",
       "   Count of Meters Currently in Service  \n",
       "0                                172745  \n",
       "1                                166182  \n",
       "2                                 13897  "
      ]
     },
     "execution_count": 53,
     "metadata": {},
     "output_type": "execute_result"
    }
   ],
   "source": [
    "# Visual of the dataset 'Summary Customer Usage'\n",
    "data_sum_cus"
   ]
  },
  {
   "cell_type": "markdown",
   "id": "654028ab-2764-4247-899f-cf6d0c3cf4c1",
   "metadata": {},
   "source": [
    "Data frame defitions:<br>\n",
    "> **Meter Make**: The make of the meter (blue, green, or red)<br>\n",
    "**Total 2019 Recorded Usage (CCF)**: The total volume recorded by each meter make in the 2019 calendar year aggregated from billing records<br>\n",
    "**Count of Meter Currently in Service**: The total count of meters currently in service in the system by meter make"
   ]
  },
  {
   "cell_type": "markdown",
   "id": "d9c923e5-5b28-4992-8f44-d7fc86a95a7d",
   "metadata": {},
   "source": [
    "Parameters:<br>\n",
    "> **Customer Retail Unit Cost: \\$5.09/CCF**: The customer retail unit cost represents the price the managing utility charges per CCF of water sold. Therefore, any lost revenue due to meter inaccuracy could be valued at this rate<br>\n",
    "**Cost to Replace a Customer Meter: $150/meter**: The full cost of customer meter replacement including staff time, equipment, and purchase of a new replacement meter"
   ]
  },
  {
   "cell_type": "code",
   "execution_count": 54,
   "id": "ae1133b1-aa94-4695-a47b-733bb2f54618",
   "metadata": {},
   "outputs": [
    {
     "data": {
      "image/png": "[encoded data removed]",
      "text/plain": [
       "<Figure size 1100x400 with 2 Axes>"
      ]
     },
     "metadata": {},
     "output_type": "display_data"
    }
   ],
   "source": [
    "# Pie Charts of Proportions of Volume of Water Usage and Meter Currently in Service\n",
    "import colorsys\n",
    "\n",
    "fig, (ax1,ax2) = plt.subplots(nrows=1, ncols=2, figsize=(11, 4))\n",
    "\n",
    "# 1st Pie: Volume Proportion by Meter Make in 2019\n",
    "divisions1 = data_sum_cus['Meter Make'].tolist()\n",
    "values1 = data_sum_cus['Total 2019 Recorded Usage (CCF)'].tolist()\n",
    "myexplode=[0.001, 0.001, 0.001]\n",
    "\n",
    "# Specify custom colors (RGB values) for red, blue, and green\n",
    "custom_colors_rgb = [(1.0, 0.0, 0.0), (0.0, 0.0, 1.0), (0.0, 1.0, 0.0)]\n",
    "\n",
    "# Adjust brightness while keeping the distinctiveness of colors\n",
    "custom_colors_dim = [colorsys.rgb_to_hsv(*rgb) for rgb in custom_colors_rgb]\n",
    "brightness_factor = 0.7  # Adjust this value to control brightness\n",
    "\n",
    "# Update the Value component to adjust brightness\n",
    "custom_colors_dim = [(h, s, v * brightness_factor) for h, s, v in custom_colors_dim]\n",
    "\n",
    "# Convert back to RGB\n",
    "custom_colors_dim = [colorsys.hsv_to_rgb(h, s, v) for h, s, v in custom_colors_dim]\n",
    "\n",
    "# Create a pie chart\n",
    "ax1.pie(values1, labels=divisions1, autopct='%1.2f%%',radius=0.3, startangle=45, \n",
    "        explode=myexplode, shadow=False, textprops={'color': 'black'}, colors=custom_colors_dim)\n",
    "\n",
    "# Set aspect ratio to be equal, creating a circle.\n",
    "ax1.axis('equal')\n",
    "\n",
    "# Manually set inside label color to white\n",
    "for text in ax1.texts:\n",
    "    if text.get_text().endswith('%'):\n",
    "        text.set_color('white') \n",
    "# Set the Title\n",
    "ax1.set_title('Volume of Water by Meter Make', fontsize=12)\n",
    "\n",
    "# 2nd Pie: Meter Proportion by Meter Make in 2019\n",
    "divisions2 = data_sum_cus['Meter Make'].tolist()\n",
    "values2 = data_sum_cus['Count of Meters Currently in Service'].tolist()\n",
    "myexplode=[0.001, 0.001, 0.001]\n",
    "\n",
    "# Create a pie chart\n",
    "ax2.pie(values2, labels=divisions2, autopct='%1.2f%%',radius=0.3, startangle=45, \n",
    "        explode=myexplode, shadow=False, textprops={'color': 'black'}, colors=custom_colors_dim)\n",
    "\n",
    "# Set aspect ratio to be equal, creating a circle.\n",
    "ax2.axis('equal')\n",
    "\n",
    "# Manually set inside label color to white\n",
    "for text in ax2.texts:\n",
    "    if text.get_text().endswith('%'):\n",
    "        text.set_color('white')    \n",
    "    \n",
    "# Set the Title\n",
    "ax2.set_title('Meters Currently in Service by Meter Make', fontsize=12)\n",
    "\n",
    "# Adjust the space between both plots\n",
    "plt.subplots_adjust(wspace=0.1)\n",
    "\n",
    "# Display the pie chart\n",
    "plt.show();"
   ]
  },
  {
   "cell_type": "markdown",
   "id": "a4e15c4c-a7f2-4d1e-bef9-d5684ef2e9ce",
   "metadata": {},
   "source": [
    ">* The Red make is the most reliable meter and handles the highest volume of water.\n",
    ">* The Green make represents less than 4% of the water volume and meters in service, having the least accuracy and featuring older meters.\n",
    ">* Both Blue and Green makes have the highest number of outliers, accounting for half of the meters."
   ]
  },
  {
   "cell_type": "markdown",
   "id": "c6087dc3-cc5b-46d7-93f4-ce337e981c70",
   "metadata": {},
   "source": [
    "##### **Assumption**"
   ]
  },
  {
   "cell_type": "markdown",
   "id": "99494e47-0320-468a-aa09-fd98f17a2696",
   "metadata": {},
   "source": [
    "We operate under the assumption that our findings from the sample data can be extrapolated to represent the entire population under study. To achieve this, we will consider the accuracy values determined for specific makes as indicative of the accuracy for the entire population of meters. This approach will be instrumental in estimating the volume and value of water lost to the customer meters."
   ]
  },
  {
   "cell_type": "code",
   "execution_count": 55,
   "id": "50d2f7f2-e78e-4ed5-8318-f13d06de4516",
   "metadata": {},
   "outputs": [
    {
     "data": {
      "text/html": [
       "<div>\n",
       "<style scoped>\n",
       "    .dataframe tbody tr th:only-of-type {\n",
       "        vertical-align: middle;\n",
       "    }\n",
       "\n",
       "    .dataframe tbody tr th {\n",
       "        vertical-align: top;\n",
       "    }\n",
       "\n",
       "    .dataframe thead th {\n",
       "        text-align: right;\n",
       "    }\n",
       "</style>\n",
       "<table border=\"1\" class=\"dataframe\">\n",
       "  <thead>\n",
       "    <tr style=\"text-align: right;\">\n",
       "      <th></th>\n",
       "      <th>accuracy_median</th>\n",
       "      <th>age_median</th>\n",
       "      <th>accuracy_mean</th>\n",
       "      <th>age_mean</th>\n",
       "    </tr>\n",
       "    <tr>\n",
       "      <th>meterMake</th>\n",
       "      <th></th>\n",
       "      <th></th>\n",
       "      <th></th>\n",
       "      <th></th>\n",
       "    </tr>\n",
       "  </thead>\n",
       "  <tbody>\n",
       "    <tr>\n",
       "      <th>RED</th>\n",
       "      <td>99.92</td>\n",
       "      <td>18.0</td>\n",
       "      <td>99.32</td>\n",
       "      <td>18.26</td>\n",
       "    </tr>\n",
       "    <tr>\n",
       "      <th>BLUE</th>\n",
       "      <td>98.93</td>\n",
       "      <td>20.0</td>\n",
       "      <td>96.83</td>\n",
       "      <td>20.10</td>\n",
       "    </tr>\n",
       "    <tr>\n",
       "      <th>GREEN</th>\n",
       "      <td>95.50</td>\n",
       "      <td>65.0</td>\n",
       "      <td>89.17</td>\n",
       "      <td>64.93</td>\n",
       "    </tr>\n",
       "  </tbody>\n",
       "</table>\n",
       "</div>"
      ],
      "text/plain": [
       "           accuracy_median  age_median  accuracy_mean  age_mean\n",
       "meterMake                                                      \n",
       "RED                  99.92        18.0          99.32     18.26\n",
       "BLUE                 98.93        20.0          96.83     20.10\n",
       "GREEN                95.50        65.0          89.17     64.93"
      ]
     },
     "execution_count": 55,
     "metadata": {},
     "output_type": "execute_result"
    }
   ],
   "source": [
    "# Dataframe with the mean and median values of accuracy and age\n",
    "\n",
    "# Median Meter Make dataframe\n",
    "list1 = ['accuracy','age']\n",
    "df2_median = df.groupby('meterMake')[list1].median()\n",
    "df2_median.rename(columns={'accuracy':'accuracy_median', 'age':'age_median'}, inplace=True)\n",
    "\n",
    "# Mean Meter Make dataframe\n",
    "df3_mean = df.groupby('meterMake')[list1].mean().round(2)\n",
    "df3_mean.rename(columns={'accuracy':'accuracy_mean', 'age':'age_mean'}, inplace=True)\n",
    "\n",
    "df4 = pd.concat([df2_median, df3_mean], axis=1).round(2)\n",
    "\n",
    "# Reindex the DataFrame with the desired order\n",
    "desired_order = ['RED', 'BLUE', 'GREEN']\n",
    "df4.reindex(desired_order)"
   ]
  },
  {
   "cell_type": "markdown",
   "id": "355132a7-94bd-4223-a58e-a0e8ffc357aa",
   "metadata": {},
   "source": [
    "##### **Using the Median values**"
   ]
  },
  {
   "cell_type": "code",
   "execution_count": 56,
   "id": "bf4b9253-941b-4b03-b9e7-8e9a6c03c668",
   "metadata": {},
   "outputs": [
    {
     "data": {
      "text/plain": [
       "meterMake\n",
       "RED      0.08\n",
       "BLUE     1.07\n",
       "GREEN    4.50\n",
       "Name: accuracy_median, dtype: float64"
      ]
     },
     "execution_count": 56,
     "metadata": {},
     "output_type": "execute_result"
    }
   ],
   "source": [
    "# Inaccuracy (or loss) per Meter Make (in percentage) from the median values\n",
    "inaccuracy_meter_make_median = (100 - df4['accuracy_median']).sort_values()\n",
    "inaccuracy_meter_make_median"
   ]
  },
  {
   "cell_type": "code",
   "execution_count": 57,
   "id": "968ae6dc-0c65-436e-912b-330782e2a2a0",
   "metadata": {},
   "outputs": [
    {
     "data": {
      "text/html": [
       "<div>\n",
       "<style scoped>\n",
       "    .dataframe tbody tr th:only-of-type {\n",
       "        vertical-align: middle;\n",
       "    }\n",
       "\n",
       "    .dataframe tbody tr th {\n",
       "        vertical-align: top;\n",
       "    }\n",
       "\n",
       "    .dataframe thead th {\n",
       "        text-align: right;\n",
       "    }\n",
       "</style>\n",
       "<table border=\"1\" class=\"dataframe\">\n",
       "  <thead>\n",
       "    <tr style=\"text-align: right;\">\n",
       "      <th></th>\n",
       "      <th>Meter Make</th>\n",
       "      <th>Total 2019 Recorded Usage (CCF)</th>\n",
       "      <th>Count of Meters Currently in Service</th>\n",
       "      <th>Inaccuracy_median</th>\n",
       "    </tr>\n",
       "  </thead>\n",
       "  <tbody>\n",
       "    <tr>\n",
       "      <th>0</th>\n",
       "      <td>RED</td>\n",
       "      <td>28576886</td>\n",
       "      <td>172745</td>\n",
       "      <td>0.08</td>\n",
       "    </tr>\n",
       "    <tr>\n",
       "      <th>1</th>\n",
       "      <td>BLUE</td>\n",
       "      <td>23316556</td>\n",
       "      <td>166182</td>\n",
       "      <td>1.07</td>\n",
       "    </tr>\n",
       "    <tr>\n",
       "      <th>2</th>\n",
       "      <td>GREEN</td>\n",
       "      <td>2094991</td>\n",
       "      <td>13897</td>\n",
       "      <td>4.50</td>\n",
       "    </tr>\n",
       "  </tbody>\n",
       "</table>\n",
       "</div>"
      ],
      "text/plain": [
       "  Meter Make  Total 2019 Recorded Usage (CCF)  \\\n",
       "0        RED                         28576886   \n",
       "1       BLUE                         23316556   \n",
       "2      GREEN                          2094991   \n",
       "\n",
       "   Count of Meters Currently in Service  Inaccuracy_median  \n",
       "0                                172745               0.08  \n",
       "1                                166182               1.07  \n",
       "2                                 13897               4.50  "
      ]
     },
     "execution_count": 57,
     "metadata": {},
     "output_type": "execute_result"
    }
   ],
   "source": [
    "# Add new column 'Inaccuaracy' to dataframe 'data_sum_cus'\n",
    "data_sum_cus['Inaccuracy_median'] = inaccuracy_meter_make_median.sort_values().values\n",
    "data_sum_cus"
   ]
  },
  {
   "cell_type": "code",
   "execution_count": 58,
   "id": "f3c97036-9536-4d45-a592-92807c51d9aa",
   "metadata": {},
   "outputs": [
    {
     "data": {
      "text/html": [
       "<div>\n",
       "<style scoped>\n",
       "    .dataframe tbody tr th:only-of-type {\n",
       "        vertical-align: middle;\n",
       "    }\n",
       "\n",
       "    .dataframe tbody tr th {\n",
       "        vertical-align: top;\n",
       "    }\n",
       "\n",
       "    .dataframe thead th {\n",
       "        text-align: right;\n",
       "    }\n",
       "</style>\n",
       "<table border=\"1\" class=\"dataframe\">\n",
       "  <thead>\n",
       "    <tr style=\"text-align: right;\">\n",
       "      <th></th>\n",
       "      <th>Meter Make</th>\n",
       "      <th>Total 2019 Recorded Usage (CCF)</th>\n",
       "      <th>Count of Meters Currently in Service</th>\n",
       "      <th>Inaccuracy_median</th>\n",
       "      <th>Volume_Loss_median</th>\n",
       "    </tr>\n",
       "  </thead>\n",
       "  <tbody>\n",
       "    <tr>\n",
       "      <th>0</th>\n",
       "      <td>RED</td>\n",
       "      <td>28576886</td>\n",
       "      <td>172745</td>\n",
       "      <td>0.08</td>\n",
       "      <td>22861.51</td>\n",
       "    </tr>\n",
       "    <tr>\n",
       "      <th>1</th>\n",
       "      <td>BLUE</td>\n",
       "      <td>23316556</td>\n",
       "      <td>166182</td>\n",
       "      <td>1.07</td>\n",
       "      <td>249487.15</td>\n",
       "    </tr>\n",
       "    <tr>\n",
       "      <th>2</th>\n",
       "      <td>GREEN</td>\n",
       "      <td>2094991</td>\n",
       "      <td>13897</td>\n",
       "      <td>4.50</td>\n",
       "      <td>94274.60</td>\n",
       "    </tr>\n",
       "  </tbody>\n",
       "</table>\n",
       "</div>"
      ],
      "text/plain": [
       "  Meter Make  Total 2019 Recorded Usage (CCF)  \\\n",
       "0        RED                         28576886   \n",
       "1       BLUE                         23316556   \n",
       "2      GREEN                          2094991   \n",
       "\n",
       "   Count of Meters Currently in Service  Inaccuracy_median  Volume_Loss_median  \n",
       "0                                172745               0.08            22861.51  \n",
       "1                                166182               1.07           249487.15  \n",
       "2                                 13897               4.50            94274.60  "
      ]
     },
     "execution_count": 58,
     "metadata": {},
     "output_type": "execute_result"
    }
   ],
   "source": [
    "# Estimate of Volume of Water loss per Meter Make (from the median inaccuracy)\n",
    "data_sum_cus['Volume_Loss_median'] = (data_sum_cus['Total 2019 Recorded Usage (CCF)'] * (data_sum_cus['Inaccuracy_median']/100)).values.round(2)\n",
    "data_sum_cus"
   ]
  },
  {
   "cell_type": "code",
   "execution_count": 59,
   "id": "9e9271e4-d7d0-432b-8ef9-c2f2e963ddb1",
   "metadata": {},
   "outputs": [
    {
     "name": "stdout",
     "output_type": "stream",
     "text": [
      "Total water loss (median values): 366,623.26\n"
     ]
    }
   ],
   "source": [
    "# Total Volume of water Loss (median) in 2019\n",
    "total_water_loss_median = data_sum_cus['Volume_Loss_median'].values.sum()\n",
    "print(f'Total water loss (median values): {total_water_loss_median:,}')"
   ]
  },
  {
   "cell_type": "code",
   "execution_count": 60,
   "id": "df2efcdb-5c39-46f7-b1f1-145c2e956696",
   "metadata": {},
   "outputs": [
    {
     "data": {
      "image/png": "[encoded data removed]",
      "text/plain": [
       "<Figure size 800x400 with 2 Axes>"
      ]
     },
     "metadata": {},
     "output_type": "display_data"
    },
    {
     "data": {
      "image/png": "[encoded data removed]",
      "text/plain": [
       "<Figure size 1100x400 with 1 Axes>"
      ]
     },
     "metadata": {},
     "output_type": "display_data"
    }
   ],
   "source": [
    "# Barplots of Meter Make for Volumen of Water Loss and Proportion of Inaccuracy\n",
    "\n",
    "fig, (ax1,ax2) = plt.subplots(nrows=1, ncols=2, figsize=(8, 4))\n",
    "\n",
    "# Specify custom colors (RGB values) for red, blue, and green\n",
    "custom_colors_rgb = [(1.0, 0.0, 0.0), (0.0, 0.0, 1.0), (0.0, 1.0, 0.0)]\n",
    "\n",
    "# Adjust brightness while keeping the distinctiveness of colors\n",
    "custom_colors_dim = [colorsys.rgb_to_hsv(*rgb) for rgb in custom_colors_rgb]\n",
    "brightness_factor = 0.7  # Adjust this value to control brightness\n",
    "\n",
    "# Update the Value component to adjust brightness\n",
    "custom_colors_dim = [(h, s, v * brightness_factor) for h, s, v in custom_colors_dim]\n",
    "\n",
    "# Convert back to RGB\n",
    "custom_colors_dim = [colorsys.hsv_to_rgb(h, s, v) for h, s, v in custom_colors_dim]\n",
    "\n",
    "# 1nd Plot\n",
    "g1 = sns.barplot(x='Meter Make', y='Volume_Loss_median', data=data_sum_cus, palette=custom_colors_dim, errwidth=0, edgecolor=\".3\", ax=ax1)\n",
    "# add the annotation\n",
    "for i in ax1.containers:\n",
    "    ax1.bar_label(i,fmt='%.1f', label_type='edge')\n",
    "ax1.set(ylabel='Count')\n",
    "ax1.set(title='Volumen Water Loss');\n",
    "\n",
    "# 2nd Plot\n",
    "g2 = sns.barplot(x='Meter Make', y='Inaccuracy_median', data=data_sum_cus, estimator=np.median,palette=custom_colors_dim, errwidth=0, edgecolor=\".3\", ax=ax2)\n",
    "# add the annotation\n",
    "for i in ax2.containers:\n",
    "    ax2.bar_label(i,fmt='%.2f', label_type='edge')\n",
    "ax2.set(ylabel='Inaccuracy median')\n",
    "ax2.set(title='Proportion of Inaccuracy')\n",
    "\n",
    "# Pie chart: Volume Proportion by Meter Make in 2019\n",
    "divisions1 = data_sum_cus['Meter Make'].tolist()\n",
    "values1 = data_sum_cus['Volume_Loss_median'].tolist()\n",
    "myexplode=[0.001, 0.001, 0.001]\n",
    "\n",
    "fig, ax3 = plt.subplots(figsize=(11, 4))\n",
    "\n",
    "# Create a pie chart\n",
    "ax3.pie(values1, labels=divisions1, autopct='%1.2f%%',radius=0.3, startangle=45, \n",
    "        explode=myexplode, shadow=False, textprops={'color': 'black'}, colors=custom_colors_dim)\n",
    "\n",
    "# Set aspect ratio to be equal, creating a circle.\n",
    "ax3.axis('equal')\n",
    "\n",
    "# Manually set inside label color to white\n",
    "for text in ax3.texts:\n",
    "    if text.get_text().endswith('%'):\n",
    "        text.set_color('white') \n",
    "# Set the Title\n",
    "ax3.set_title('Proportion Water Loss per Make', fontsize=12)\n",
    "\n",
    "# Adjust the space between both plots\n",
    "plt.subplots_adjust(wspace=0.5)\n",
    "plt.show();"
   ]
  },
  {
   "cell_type": "code",
   "execution_count": 61,
   "id": "764fbac7-9d71-487a-b466-73077a9609a8",
   "metadata": {},
   "outputs": [
    {
     "name": "stdout",
     "output_type": "stream",
     "text": [
      "Total Water Usage: 53,988,433\n"
     ]
    }
   ],
   "source": [
    "# Total Water Usage in 2019\n",
    "total_water_usage = data_sum_cus['Total 2019 Recorded Usage (CCF)'].sum()\n",
    "print(f'Total Water Usage: {total_water_usage:,}')"
   ]
  },
  {
   "cell_type": "code",
   "execution_count": 62,
   "id": "42c16335-f1bb-4bed-bfb0-32e2a97e6ed7",
   "metadata": {},
   "outputs": [
    {
     "name": "stdout",
     "output_type": "stream",
     "text": [
      "Percentage of water loss (median values) in 2019: 0.68%\n"
     ]
    }
   ],
   "source": [
    "# Percentage of Water Loss compared to the total water usage (median)\n",
    "water_loss_median_perc = (100*total_water_loss_median/total_water_usage).round(2)\n",
    "print(f'Percentage of water loss (median values) in 2019: {water_loss_median_perc}%')"
   ]
  },
  {
   "cell_type": "markdown",
   "id": "6e0be17d-b7dd-4262-a058-6fed22b87103",
   "metadata": {},
   "source": [
    "By the median values, only 0.68% of the total water usage was loss due to inaccuracy in the meter readings."
   ]
  },
  {
   "cell_type": "code",
   "execution_count": 63,
   "id": "51c47fe7-12b9-479c-b054-94e085e05899",
   "metadata": {},
   "outputs": [
    {
     "name": "stdout",
     "output_type": "stream",
     "text": [
      "Estimate of the total loss (median values) in 2019 was: $1,866,112.39\n"
     ]
    }
   ],
   "source": [
    "# Total Loss in dollars (median values)\n",
    "# Customer Retail Unit Cost: $5.09/CCF\n",
    "customer_unit_cost = 5.09\n",
    "total_loss_median = (customer_unit_cost * total_water_loss_median).round(2)\n",
    "print(f'Estimate of the total loss (median values) in 2019 was: ${total_loss_median:,}')"
   ]
  },
  {
   "cell_type": "markdown",
   "id": "5ee87053-e44e-4484-887c-3cac9201356d",
   "metadata": {},
   "source": [
    "This is just an estimation based on the sample provided. We took the median of the accuracy from the sample and we extrapolated to the whole population of meters. From that extrapolation we calculated how much volumen of water was lost per make of meter, we aggregted those values to get the total volumen of water lost in 2019. By multipling by the rate of volumen of water we got how much it was the billing system under charging the customers.<br>\n",
    "We can not take those numbers seriourly because is only an extrapolation of a small sample of meters and we don't know exactly how much water passed through each individual meter."
   ]
  },
  {
   "cell_type": "markdown",
   "id": "610ed0c4-49e9-4aaa-abcf-2e546253e65c",
   "metadata": {},
   "source": [
    "##### **Using the Mean values**"
   ]
  },
  {
   "cell_type": "code",
   "execution_count": 64,
   "id": "101adba1-3cf9-4ab1-b284-1438a549694d",
   "metadata": {},
   "outputs": [
    {
     "data": {
      "text/plain": [
       "meterMake\n",
       "RED       0.68\n",
       "BLUE      3.17\n",
       "GREEN    10.83\n",
       "Name: accuracy_mean, dtype: float64"
      ]
     },
     "execution_count": 64,
     "metadata": {},
     "output_type": "execute_result"
    }
   ],
   "source": [
    "# Inaccuracy per Meter Make (in percentage) from the mean values\n",
    "inaccuracy_meter_make_mean = (100 - df4['accuracy_mean']).sort_values()\n",
    "inaccuracy_meter_make_mean"
   ]
  },
  {
   "cell_type": "code",
   "execution_count": 65,
   "id": "363334e2-9ed4-4d8b-8d78-4746388f0d3d",
   "metadata": {},
   "outputs": [
    {
     "data": {
      "text/html": [
       "<div>\n",
       "<style scoped>\n",
       "    .dataframe tbody tr th:only-of-type {\n",
       "        vertical-align: middle;\n",
       "    }\n",
       "\n",
       "    .dataframe tbody tr th {\n",
       "        vertical-align: top;\n",
       "    }\n",
       "\n",
       "    .dataframe thead th {\n",
       "        text-align: right;\n",
       "    }\n",
       "</style>\n",
       "<table border=\"1\" class=\"dataframe\">\n",
       "  <thead>\n",
       "    <tr style=\"text-align: right;\">\n",
       "      <th></th>\n",
       "      <th>Meter Make</th>\n",
       "      <th>Total 2019 Recorded Usage (CCF)</th>\n",
       "      <th>Count of Meters Currently in Service</th>\n",
       "      <th>Inaccuracy_median</th>\n",
       "      <th>Volume_Loss_median</th>\n",
       "      <th>Inaccuracy_mean</th>\n",
       "    </tr>\n",
       "  </thead>\n",
       "  <tbody>\n",
       "    <tr>\n",
       "      <th>0</th>\n",
       "      <td>RED</td>\n",
       "      <td>28576886</td>\n",
       "      <td>172745</td>\n",
       "      <td>0.08</td>\n",
       "      <td>22861.51</td>\n",
       "      <td>0.68</td>\n",
       "    </tr>\n",
       "    <tr>\n",
       "      <th>1</th>\n",
       "      <td>BLUE</td>\n",
       "      <td>23316556</td>\n",
       "      <td>166182</td>\n",
       "      <td>1.07</td>\n",
       "      <td>249487.15</td>\n",
       "      <td>3.17</td>\n",
       "    </tr>\n",
       "    <tr>\n",
       "      <th>2</th>\n",
       "      <td>GREEN</td>\n",
       "      <td>2094991</td>\n",
       "      <td>13897</td>\n",
       "      <td>4.50</td>\n",
       "      <td>94274.60</td>\n",
       "      <td>10.83</td>\n",
       "    </tr>\n",
       "  </tbody>\n",
       "</table>\n",
       "</div>"
      ],
      "text/plain": [
       "  Meter Make  Total 2019 Recorded Usage (CCF)  \\\n",
       "0        RED                         28576886   \n",
       "1       BLUE                         23316556   \n",
       "2      GREEN                          2094991   \n",
       "\n",
       "   Count of Meters Currently in Service  Inaccuracy_median  \\\n",
       "0                                172745               0.08   \n",
       "1                                166182               1.07   \n",
       "2                                 13897               4.50   \n",
       "\n",
       "   Volume_Loss_median  Inaccuracy_mean  \n",
       "0            22861.51             0.68  \n",
       "1           249487.15             3.17  \n",
       "2            94274.60            10.83  "
      ]
     },
     "execution_count": 65,
     "metadata": {},
     "output_type": "execute_result"
    }
   ],
   "source": [
    "# Add new column 'Inaccuaracy' to dataframe 'data_sum_cus'\n",
    "data_sum_cus['Inaccuracy_mean'] = inaccuracy_meter_make_mean.sort_values().values\n",
    "data_sum_cus"
   ]
  },
  {
   "cell_type": "code",
   "execution_count": 66,
   "id": "a9807d10-d0a4-418a-a454-9171f03d21a2",
   "metadata": {},
   "outputs": [
    {
     "data": {
      "text/html": [
       "<div>\n",
       "<style scoped>\n",
       "    .dataframe tbody tr th:only-of-type {\n",
       "        vertical-align: middle;\n",
       "    }\n",
       "\n",
       "    .dataframe tbody tr th {\n",
       "        vertical-align: top;\n",
       "    }\n",
       "\n",
       "    .dataframe thead th {\n",
       "        text-align: right;\n",
       "    }\n",
       "</style>\n",
       "<table border=\"1\" class=\"dataframe\">\n",
       "  <thead>\n",
       "    <tr style=\"text-align: right;\">\n",
       "      <th></th>\n",
       "      <th>Meter Make</th>\n",
       "      <th>Total 2019 Recorded Usage (CCF)</th>\n",
       "      <th>Count of Meters Currently in Service</th>\n",
       "      <th>Inaccuracy_median</th>\n",
       "      <th>Volume_Loss_median</th>\n",
       "      <th>Inaccuracy_mean</th>\n",
       "      <th>Volume_Loss_mean</th>\n",
       "    </tr>\n",
       "  </thead>\n",
       "  <tbody>\n",
       "    <tr>\n",
       "      <th>0</th>\n",
       "      <td>RED</td>\n",
       "      <td>28576886</td>\n",
       "      <td>172745</td>\n",
       "      <td>0.08</td>\n",
       "      <td>22861.51</td>\n",
       "      <td>0.68</td>\n",
       "      <td>194322.82</td>\n",
       "    </tr>\n",
       "    <tr>\n",
       "      <th>1</th>\n",
       "      <td>BLUE</td>\n",
       "      <td>23316556</td>\n",
       "      <td>166182</td>\n",
       "      <td>1.07</td>\n",
       "      <td>249487.15</td>\n",
       "      <td>3.17</td>\n",
       "      <td>739134.83</td>\n",
       "    </tr>\n",
       "    <tr>\n",
       "      <th>2</th>\n",
       "      <td>GREEN</td>\n",
       "      <td>2094991</td>\n",
       "      <td>13897</td>\n",
       "      <td>4.50</td>\n",
       "      <td>94274.60</td>\n",
       "      <td>10.83</td>\n",
       "      <td>226887.53</td>\n",
       "    </tr>\n",
       "  </tbody>\n",
       "</table>\n",
       "</div>"
      ],
      "text/plain": [
       "  Meter Make  Total 2019 Recorded Usage (CCF)  \\\n",
       "0        RED                         28576886   \n",
       "1       BLUE                         23316556   \n",
       "2      GREEN                          2094991   \n",
       "\n",
       "   Count of Meters Currently in Service  Inaccuracy_median  \\\n",
       "0                                172745               0.08   \n",
       "1                                166182               1.07   \n",
       "2                                 13897               4.50   \n",
       "\n",
       "   Volume_Loss_median  Inaccuracy_mean  Volume_Loss_mean  \n",
       "0            22861.51             0.68         194322.82  \n",
       "1           249487.15             3.17         739134.83  \n",
       "2            94274.60            10.83         226887.53  "
      ]
     },
     "execution_count": 66,
     "metadata": {},
     "output_type": "execute_result"
    }
   ],
   "source": [
    "# Estimate of Volume of Water loss per Meter Make (from the mean inaccuracy)\n",
    "data_sum_cus['Volume_Loss_mean'] = (data_sum_cus['Total 2019 Recorded Usage (CCF)'] * (data_sum_cus['Inaccuracy_mean']/100)).values.round(2)\n",
    "data_sum_cus"
   ]
  },
  {
   "cell_type": "code",
   "execution_count": 67,
   "id": "299a1935-5d20-4946-a6ef-9d8f36a0590f",
   "metadata": {},
   "outputs": [
    {
     "name": "stdout",
     "output_type": "stream",
     "text": [
      "Total water loss by the mean values: 1,160,345.18\n"
     ]
    }
   ],
   "source": [
    "# Total Volume of water Loss (mean values)\n",
    "total_water_loss_mean = data_sum_cus['Volume_Loss_mean'].values.sum()\n",
    "print(f'Total water loss by the mean values: {total_water_loss_mean:,}')"
   ]
  },
  {
   "cell_type": "code",
   "execution_count": 68,
   "id": "676f047f-89b3-4d13-8f48-d25fb790223d",
   "metadata": {},
   "outputs": [
    {
     "name": "stdout",
     "output_type": "stream",
     "text": [
      "Percentage of water loss by mean in 2019: 2.15%\n"
     ]
    }
   ],
   "source": [
    "# Percentage of Water Loss compared to the total water usage (mean)\n",
    "water_loss_mean_perc = (100*total_water_loss_mean/total_water_usage).round(2)\n",
    "print(f'Percentage of water loss by mean in 2019: {water_loss_mean_perc}%')"
   ]
  },
  {
   "cell_type": "markdown",
   "id": "50d5886e-ec9c-41f5-9099-182826b86dfc",
   "metadata": {},
   "source": [
    "By the mean values, only 2.15% of the total water usage was loss due to inaccuracy."
   ]
  },
  {
   "cell_type": "code",
   "execution_count": 69,
   "id": "c1e77d32-a0e9-4fa3-8b2e-724bc62d8141",
   "metadata": {},
   "outputs": [
    {
     "name": "stdout",
     "output_type": "stream",
     "text": [
      "Estimate of the total loss by the mean in 2019 was: $5,906,156.97\n"
     ]
    }
   ],
   "source": [
    "# Total Loss in dollars (median)\n",
    "# Customer Retail Unit Cost: $5.09/CCF\n",
    "customer_unit_cost = 5.09\n",
    "total_loss_mean = (customer_unit_cost * total_water_loss_mean).round(2)\n",
    "print(f'Estimate of the total loss by the mean in 2019 was: ${total_loss_mean:,}')"
   ]
  },
  {
   "cell_type": "code",
   "execution_count": 70,
   "id": "a0f99db6-1d7b-45f4-b8b1-58c1861ee2a9",
   "metadata": {},
   "outputs": [
    {
     "name": "stdout",
     "output_type": "stream",
     "text": [
      "Difference in dollars from taking the mean values instead of the median: $4,040,044.58\n"
     ]
    }
   ],
   "source": [
    "# Difference of Estimates considering the median or mean values\n",
    "diff = total_loss_mean - total_loss_median\n",
    "print(f'Difference in dollars from taking the mean values instead of the median: ${diff:,}')"
   ]
  },
  {
   "cell_type": "markdown",
   "id": "759f4b90-eccd-482c-9360-68ab410d9cfe",
   "metadata": {},
   "source": [
    "#### **Example Case**"
   ]
  },
  {
   "cell_type": "markdown",
   "id": "dfac1805-42c1-4639-8af0-d6f1fb32c3f7",
   "metadata": {},
   "source": [
    "We consider a scenario in which we aim to replace all meters falling below a certain accuracy threshold in our sample dataset."
   ]
  },
  {
   "cell_type": "code",
   "execution_count": 71,
   "id": "0bd7c6de-6564-4f1c-a237-bee8b1027bc3",
   "metadata": {},
   "outputs": [
    {
     "data": {
      "image/png": "[encoded data removed]",
      "text/plain": [
       "<Figure size 800x400 with 1 Axes>"
      ]
     },
     "metadata": {},
     "output_type": "display_data"
    }
   ],
   "source": [
    "# Scatterplot of Age vs. Accuracy per Make with a 95% accuracy\n",
    "fig, ax8 = plt.subplots(figsize=(8, 4))\n",
    "\n",
    "g8 = sns.scatterplot(data=df, x='accuracy', y='age', hue='meterMake', ax=ax8)\n",
    "\n",
    "# Add horizontal line at y = 40 years of age\n",
    "#plt.axhline(y=40, color='g', linestyle='--')\n",
    "\n",
    "# Add vertical line at x = 95%\n",
    "plt.axvline(x=95, color='r', linestyle='--')\n",
    "\n",
    "# Add label and legend\n",
    "ax8.set(xlabel='Accuracy')\n",
    "ax8.set(ylabel='Age')\n",
    "g8.legend(loc='upper left',bbox_to_anchor=(1,1), title='Meter Make');"
   ]
  },
  {
   "cell_type": "code",
   "execution_count": 72,
   "id": "6834b7dc-1bbe-4643-8e8c-9f6cc13ac198",
   "metadata": {},
   "outputs": [
    {
     "name": "stdout",
     "output_type": "stream",
     "text": [
      "Meters with 95% accuracy or lower = 236\n",
      "\n",
      "Meter Makes with 95% accuracy or lower: \n",
      "meterMake\n",
      "BLUE     167\n",
      "GREEN     65\n",
      "RED        4\n",
      "Name: meterSize, dtype: int64\n",
      "\n",
      "Meter Size with 95% accuracy or lower: \n",
      "meterSize\n",
      "5/8 Inch    236\n",
      "Name: meterMake, dtype: int64\n"
     ]
    }
   ],
   "source": [
    "# Meters with accuracy of 95% or below in our sample\n",
    "meter_replace = df.loc[df['accuracy']<=95][['meterID','meterMake','meterSize']]\n",
    "print(f'Meters with 95% accuracy or lower = {meter_replace[\"meterID\"].count()}\\n')\n",
    "print(f\"Meter Makes with 95% accuracy or lower: \\n{meter_replace.groupby('meterMake')['meterSize'].count()}\\n\")\n",
    "print(f\"Meter Size with 95% accuracy or lower: \\n{meter_replace.groupby('meterSize')['meterMake'].count()}\")"
   ]
  },
  {
   "cell_type": "code",
   "execution_count": 73,
   "id": "4f4ebd9a-b65d-4d15-b1e4-00eb6b4f29df",
   "metadata": {},
   "outputs": [
    {
     "name": "stdout",
     "output_type": "stream",
     "text": [
      "[12, 14, 18, 34, 36, 45, 83, 93, 99, 104, 108, 118, 121, 144, 152, 166, 170, 171, 181, 186, 191, 196, 200, 205, 217, 218, 226, 241, 246, 259, 263, 272, 276, 282, 294, 297, 301, 316, 323, 325, 334, 352, 370, 371, 404, 408, 410, 416, 418, 420, 425, 446, 465, 473, 476, 487, 490, 498, 499, 529, 536, 551, 571, 574, 592, 615, 619, 645, 648, 658, 660, 668, 669, 674, 677, 690, 691, 700, 705, 716, 721, 731, 743, 744, 750, 758, 759, 765, 770, 779, 780, 784, 794, 820, 829, 837, 850, 862, 863, 867, 871, 875, 879, 887, 919, 920, 922, 926, 930, 950, 965, 971, 972, 980, 981, 982, 990, 995, 999, 1003, 1006, 1010, 1032, 1039, 1042, 1084, 1085, 1107, 1116, 1117, 1120, 1122, 1125, 1134, 1135, 1142, 1157, 1161, 1165, 1170, 1174, 1181, 1186, 1190, 1205, 1227, 1245, 1249, 1254, 1263, 1265, 1266, 1268, 1287, 1305, 1309, 1313, 1325, 1351, 1369, 1373, 1381, 1382, 1390, 1392, 1398, 1400, 1402, 1409, 1417, 1429, 1431, 1454, 1457, 1464, 1497, 1498, 1501, 1505, 1522, 1529, 1532, 1544, 1572, 1579, 1596, 1601, 1603, 1607, 1611, 1612, 1613, 1623, 1639, 1642, 1651, 1655, 1665, 1704, 1706, 1709, 1715, 1716, 1721, 1723, 1728, 1733, 1734, 1745, 1749, 1751, 1755, 1761, 1762, 1764, 1766, 1767, 1777, 1784, 1788, 1794, 1799, 1805, 1824, 1830, 1836, 1840, 1854, 1859, 1863, 1870, 1873, 1886, 1925, 1927, 1937]\n"
     ]
    }
   ],
   "source": [
    "# List of meterID with 95% or less accuracy\n",
    "print(df.loc[df['accuracy']<=95]['meterID'].to_list())"
   ]
  },
  {
   "cell_type": "code",
   "execution_count": 74,
   "id": "92b0ef26-ef17-40ed-be23-ba45bafc2d2c",
   "metadata": {},
   "outputs": [
    {
     "name": "stdout",
     "output_type": "stream",
     "text": [
      "Proportion of meters with 95% accuracy or lower in the sample: 12.13%\n"
     ]
    }
   ],
   "source": [
    "# Proportion of the meters with 95% accuracy or lower in our sample data\n",
    "print(f'Proportion of meters with 95% accuracy or lower in the sample: {round(100 * meter_replace[\"meterID\"].count() / df.shape[0], 2)}%')"
   ]
  },
  {
   "cell_type": "markdown",
   "id": "42ce2cd6-f914-41aa-b0ff-b07eeef42a4b",
   "metadata": {},
   "source": [
    "**Assumption**<br>\n",
    "If the sample data were truly representative of the entire population, we can assume that the 12.13% proportion of meters with 95% accuracy or lower in our sample also represents the entire population of meters in service."
   ]
  },
  {
   "cell_type": "code",
   "execution_count": 75,
   "id": "2f78eea2-4ebc-465e-b4d0-61e1ec2ec19e",
   "metadata": {},
   "outputs": [
    {
     "name": "stdout",
     "output_type": "stream",
     "text": [
      "Total meters in service in 2019: 352,824\n"
     ]
    }
   ],
   "source": [
    "# Total Meters in Service in 2019\n",
    "total_meters_in_service = data_sum_cus['Count of Meters Currently in Service'].sum()\n",
    "print(f'Total meters in service in 2019: {total_meters_in_service:,}')"
   ]
  },
  {
   "cell_type": "code",
   "execution_count": 76,
   "id": "f6412977-86d0-48ea-876b-8b9a01da17ec",
   "metadata": {},
   "outputs": [
    {
     "name": "stdout",
     "output_type": "stream",
     "text": [
      "Total meters in service with 95% accuracy or lower in 2019: 42,798.0\n"
     ]
    }
   ],
   "source": [
    "# 12.13% of total meters with 95% accuracy or lower\n",
    "total_meter_replace = (total_meters_in_service * (round(100 * meter_replace[\"meterID\"].count() / df.shape[0], 2)/100)).round(0)\n",
    "print(f'Total meters in service with 95% accuracy or lower in 2019: {total_meter_replace:,}')"
   ]
  },
  {
   "cell_type": "code",
   "execution_count": 77,
   "id": "6c7132b7-f5c0-4432-80dc-02b01559399c",
   "metadata": {},
   "outputs": [
    {
     "name": "stdout",
     "output_type": "stream",
     "text": [
      "Total cost of replacing meters with 95% accuracy or lower in 2019: $6,419,700.0\n"
     ]
    }
   ],
   "source": [
    "# Cost of replacement the meters with 95% accuracy or lower in 2019\n",
    "# Cost to Replace a Customer Meter: $150/meter\n",
    "cost_replac_per_meter = 150\n",
    "total_cost_replac = cost_replac_per_meter * total_meter_replace\n",
    "print(f'Total cost of replacing meters with 95% accuracy or lower in 2019: ${total_cost_replac:,}')"
   ]
  },
  {
   "cell_type": "markdown",
   "id": "0f5ed1b4-ec24-4538-9a8d-0218eb837ec5",
   "metadata": {},
   "source": [
    "#### **Recommendations**"
   ]
  },
  {
   "cell_type": "markdown",
   "id": "a7d6657e-91f3-4be8-88f9-7636f09e24d8",
   "metadata": {},
   "source": [
    "* Identify and replace faulty meters that consistently under-register water volume. \n",
    "* Implement meter replacement program to address aging or malfunctioning meters. \n",
    "* Based on the sample data, it was observed that meters produced by the Green make with a 5/8-inch size consistently exhibit the lowest accuracy, and they are also the oldest in age.\n",
    "* Based on the sample data, meters from the Blue make and with a 5/8-inch size also demonstrate lower accuracy, indicating that they should be replaced.\n",
    "* Offering discounts to customers who are interested in replacing their older meters sooner.\n",
    "* Providing customers with education on water conservation and recycling practices following meter replacements\n",
    "* Implementing systematic measures to control and maintain pipes in order to reduce leakage in the system.\n",
    "* Ensuring the accuracy of water meters by conducting regular inspections, maintenance, and calibration.\n",
    "* Incorporate remote monitoring systems for real-time data collection and analysis.\n",
    "* Utilize additional data to identify patterns of under-registration. Consider factors such as location, testing type, water pressure, and temperature.\n",
    "* Examine historical data on water consumption patterns during specific periods to identify trends and reasons for meter replacements.\n",
    "* Promote customer reporting of any noticeable discrepancies in their water bills or consumption.\n",
    "* Implement standardized testing procedures to consistently verify the accuracy of individual meters and their installations.\n",
    "* Examine historical data regarding faulty meters, categorizing them by make, size, and calibration.\n",
    "* Conduct market research to identify the most reliable meter available.\n",
    "* If analyses are conducted on sample data, ensure a more representative dataset of the entire population by selecting an equal number of meters from different makes and sizes."
   ]
  }
 ],
 "metadata": {
  "kernelspec": {
   "display_name": "Python 3 (ipykernel)",
   "language": "python",
   "name": "python3"
  },
  "language_info": {
   "codemirror_mode": {
    "name": "ipython",
    "version": 3
   },
   "file_extension": ".py",
   "mimetype": "text/x-python",
   "name": "python",
   "nbconvert_exporter": "python",
   "pygments_lexer": "ipython3",
   "version": "3.7.16"
  }
 },
 "nbformat": 4,
 "nbformat_minor": 5
}
